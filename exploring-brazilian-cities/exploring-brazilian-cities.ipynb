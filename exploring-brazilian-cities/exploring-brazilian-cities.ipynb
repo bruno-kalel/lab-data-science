{
  "cells": [
    {
      "cell_type": "code",
      "execution_count": 1,
      "metadata": {
        "colab": {
          "base_uri": "https://localhost:8080/"
        },
        "id": "4cln5KRGyGm1",
        "outputId": "34e38665-f48a-4e99-ea0d-eade60c7eb00"
      },
      "outputs": [
        {
          "name": "stdout",
          "output_type": "stream",
          "text": [
            "Python 3.10.12\n"
          ]
        }
      ],
      "source": [
        "!python --version"
      ]
    },
    {
      "cell_type": "markdown",
      "metadata": {
        "id": "TRuUpXvf7uHn"
      },
      "source": [
        "# Importando bibliotecas"
      ]
    },
    {
      "cell_type": "code",
      "execution_count": 2,
      "metadata": {
        "id": "7sbAdIoHyMjV"
      },
      "outputs": [],
      "source": [
        "from wordcloud import WordCloud\n",
        "import seaborn as sns\n",
        "import pandas as pd\n",
        "import numpy as np\n",
        "import matplotlib.pyplot as plt\n",
        "plt.style.use('seaborn-v0_8-paper')"
      ]
    },
    {
      "cell_type": "markdown",
      "metadata": {
        "id": "zcnkUKQ97wXr"
      },
      "source": [
        "# Importando dados"
      ]
    },
    {
      "cell_type": "code",
      "execution_count": 3,
      "metadata": {
        "id": "YhNiTbcnyQnj"
      },
      "outputs": [],
      "source": [
        "caminho = ''"
      ]
    },
    {
      "cell_type": "code",
      "execution_count": 4,
      "metadata": {
        "colab": {
          "base_uri": "https://localhost:8080/",
          "height": 499
        },
        "id": "JS3gJjMDyXXh",
        "outputId": "409b275b-cf4e-4600-e24d-aaaed3682e9a"
      },
      "outputs": [
        {
          "data": {
            "application/vnd.google.colaboratory.intrinsic+json": {
              "type": "dataframe",
              "variable_name": "df"
            },
            "text/html": [
              "\n",
              "  <div id=\"df-342fac2d-c5bf-4472-bc6f-000286b8d56e\" class=\"colab-df-container\">\n",
              "    <div>\n",
              "<style scoped>\n",
              "    .dataframe tbody tr th:only-of-type {\n",
              "        vertical-align: middle;\n",
              "    }\n",
              "\n",
              "    .dataframe tbody tr th {\n",
              "        vertical-align: top;\n",
              "    }\n",
              "\n",
              "    .dataframe thead th {\n",
              "        text-align: right;\n",
              "    }\n",
              "</style>\n",
              "<table border=\"1\" class=\"dataframe\">\n",
              "  <thead>\n",
              "    <tr style=\"text-align: right;\">\n",
              "      <th></th>\n",
              "      <th>CITY</th>\n",
              "      <th>STATE</th>\n",
              "      <th>CAPITAL</th>\n",
              "      <th>IBGE_RES_POP</th>\n",
              "      <th>IBGE_RES_POP_BRAS</th>\n",
              "      <th>IBGE_RES_POP_ESTR</th>\n",
              "      <th>IBGE_DU</th>\n",
              "      <th>IBGE_DU_URBAN</th>\n",
              "      <th>IBGE_DU_RURAL</th>\n",
              "      <th>IBGE_POP</th>\n",
              "      <th>...</th>\n",
              "      <th>Pu_Bank</th>\n",
              "      <th>Pr_Assets</th>\n",
              "      <th>Pu_Assets</th>\n",
              "      <th>Cars</th>\n",
              "      <th>Motorcycles</th>\n",
              "      <th>Wheeled_tractor</th>\n",
              "      <th>UBER</th>\n",
              "      <th>MAC</th>\n",
              "      <th>WAL-MART</th>\n",
              "      <th>POST_OFFICES</th>\n",
              "    </tr>\n",
              "  </thead>\n",
              "  <tbody>\n",
              "    <tr>\n",
              "      <th>0</th>\n",
              "      <td>Abadia De Goiás</td>\n",
              "      <td>GO</td>\n",
              "      <td>0</td>\n",
              "      <td>6876.0</td>\n",
              "      <td>6876.0</td>\n",
              "      <td>0.0</td>\n",
              "      <td>2137.0</td>\n",
              "      <td>1546.0</td>\n",
              "      <td>591.0</td>\n",
              "      <td>5300.0</td>\n",
              "      <td>...</td>\n",
              "      <td>NaN</td>\n",
              "      <td>NaN</td>\n",
              "      <td>NaN</td>\n",
              "      <td>2158.0</td>\n",
              "      <td>1246.0</td>\n",
              "      <td>0.0</td>\n",
              "      <td>NaN</td>\n",
              "      <td>NaN</td>\n",
              "      <td>NaN</td>\n",
              "      <td>1.0</td>\n",
              "    </tr>\n",
              "    <tr>\n",
              "      <th>1</th>\n",
              "      <td>Abadia Dos Dourados</td>\n",
              "      <td>MG</td>\n",
              "      <td>0</td>\n",
              "      <td>6704.0</td>\n",
              "      <td>6704.0</td>\n",
              "      <td>0.0</td>\n",
              "      <td>2328.0</td>\n",
              "      <td>1481.0</td>\n",
              "      <td>847.0</td>\n",
              "      <td>4154.0</td>\n",
              "      <td>...</td>\n",
              "      <td>NaN</td>\n",
              "      <td>NaN</td>\n",
              "      <td>NaN</td>\n",
              "      <td>2227.0</td>\n",
              "      <td>1142.0</td>\n",
              "      <td>0.0</td>\n",
              "      <td>NaN</td>\n",
              "      <td>NaN</td>\n",
              "      <td>NaN</td>\n",
              "      <td>1.0</td>\n",
              "    </tr>\n",
              "    <tr>\n",
              "      <th>2</th>\n",
              "      <td>Abadiânia</td>\n",
              "      <td>GO</td>\n",
              "      <td>0</td>\n",
              "      <td>15757.0</td>\n",
              "      <td>15609.0</td>\n",
              "      <td>148.0</td>\n",
              "      <td>4655.0</td>\n",
              "      <td>3233.0</td>\n",
              "      <td>1422.0</td>\n",
              "      <td>10656.0</td>\n",
              "      <td>...</td>\n",
              "      <td>1.0</td>\n",
              "      <td>33724584.0</td>\n",
              "      <td>67091904.0</td>\n",
              "      <td>2838.0</td>\n",
              "      <td>1426.0</td>\n",
              "      <td>0.0</td>\n",
              "      <td>NaN</td>\n",
              "      <td>NaN</td>\n",
              "      <td>NaN</td>\n",
              "      <td>3.0</td>\n",
              "    </tr>\n",
              "    <tr>\n",
              "      <th>3</th>\n",
              "      <td>Abaeté</td>\n",
              "      <td>MG</td>\n",
              "      <td>0</td>\n",
              "      <td>22690.0</td>\n",
              "      <td>22690.0</td>\n",
              "      <td>0.0</td>\n",
              "      <td>7694.0</td>\n",
              "      <td>6667.0</td>\n",
              "      <td>1027.0</td>\n",
              "      <td>18464.0</td>\n",
              "      <td>...</td>\n",
              "      <td>2.0</td>\n",
              "      <td>44974716.0</td>\n",
              "      <td>371922572.0</td>\n",
              "      <td>6928.0</td>\n",
              "      <td>2953.0</td>\n",
              "      <td>0.0</td>\n",
              "      <td>NaN</td>\n",
              "      <td>NaN</td>\n",
              "      <td>NaN</td>\n",
              "      <td>4.0</td>\n",
              "    </tr>\n",
              "    <tr>\n",
              "      <th>4</th>\n",
              "      <td>Abaetetuba</td>\n",
              "      <td>PA</td>\n",
              "      <td>0</td>\n",
              "      <td>141100.0</td>\n",
              "      <td>141040.0</td>\n",
              "      <td>60.0</td>\n",
              "      <td>31061.0</td>\n",
              "      <td>19057.0</td>\n",
              "      <td>12004.0</td>\n",
              "      <td>82956.0</td>\n",
              "      <td>...</td>\n",
              "      <td>4.0</td>\n",
              "      <td>76181384.0</td>\n",
              "      <td>800078483.0</td>\n",
              "      <td>5277.0</td>\n",
              "      <td>25661.0</td>\n",
              "      <td>0.0</td>\n",
              "      <td>NaN</td>\n",
              "      <td>NaN</td>\n",
              "      <td>NaN</td>\n",
              "      <td>2.0</td>\n",
              "    </tr>\n",
              "    <tr>\n",
              "      <th>5</th>\n",
              "      <td>Abaiara</td>\n",
              "      <td>CE</td>\n",
              "      <td>0</td>\n",
              "      <td>10496.0</td>\n",
              "      <td>10496.0</td>\n",
              "      <td>0.0</td>\n",
              "      <td>2791.0</td>\n",
              "      <td>1251.0</td>\n",
              "      <td>1540.0</td>\n",
              "      <td>4538.0</td>\n",
              "      <td>...</td>\n",
              "      <td>NaN</td>\n",
              "      <td>NaN</td>\n",
              "      <td>NaN</td>\n",
              "      <td>553.0</td>\n",
              "      <td>1674.0</td>\n",
              "      <td>0.0</td>\n",
              "      <td>NaN</td>\n",
              "      <td>NaN</td>\n",
              "      <td>NaN</td>\n",
              "      <td>1.0</td>\n",
              "    </tr>\n",
              "    <tr>\n",
              "      <th>6</th>\n",
              "      <td>Abaíra</td>\n",
              "      <td>BA</td>\n",
              "      <td>0</td>\n",
              "      <td>8316.0</td>\n",
              "      <td>8316.0</td>\n",
              "      <td>0.0</td>\n",
              "      <td>2572.0</td>\n",
              "      <td>1193.0</td>\n",
              "      <td>1379.0</td>\n",
              "      <td>3725.0</td>\n",
              "      <td>...</td>\n",
              "      <td>NaN</td>\n",
              "      <td>NaN</td>\n",
              "      <td>NaN</td>\n",
              "      <td>896.0</td>\n",
              "      <td>696.0</td>\n",
              "      <td>0.0</td>\n",
              "      <td>NaN</td>\n",
              "      <td>NaN</td>\n",
              "      <td>NaN</td>\n",
              "      <td>1.0</td>\n",
              "    </tr>\n",
              "    <tr>\n",
              "      <th>7</th>\n",
              "      <td>Abaré</td>\n",
              "      <td>BA</td>\n",
              "      <td>0</td>\n",
              "      <td>17064.0</td>\n",
              "      <td>17064.0</td>\n",
              "      <td>0.0</td>\n",
              "      <td>4332.0</td>\n",
              "      <td>2379.0</td>\n",
              "      <td>1953.0</td>\n",
              "      <td>8994.0</td>\n",
              "      <td>...</td>\n",
              "      <td>0.0</td>\n",
              "      <td>21823314.0</td>\n",
              "      <td>0.0</td>\n",
              "      <td>613.0</td>\n",
              "      <td>1532.0</td>\n",
              "      <td>0.0</td>\n",
              "      <td>NaN</td>\n",
              "      <td>NaN</td>\n",
              "      <td>NaN</td>\n",
              "      <td>1.0</td>\n",
              "    </tr>\n",
              "    <tr>\n",
              "      <th>8</th>\n",
              "      <td>Abatiá</td>\n",
              "      <td>PR</td>\n",
              "      <td>0</td>\n",
              "      <td>7764.0</td>\n",
              "      <td>7764.0</td>\n",
              "      <td>0.0</td>\n",
              "      <td>2499.0</td>\n",
              "      <td>1877.0</td>\n",
              "      <td>622.0</td>\n",
              "      <td>5685.0</td>\n",
              "      <td>...</td>\n",
              "      <td>1.0</td>\n",
              "      <td>0.0</td>\n",
              "      <td>45976288.0</td>\n",
              "      <td>2168.0</td>\n",
              "      <td>912.0</td>\n",
              "      <td>0.0</td>\n",
              "      <td>NaN</td>\n",
              "      <td>NaN</td>\n",
              "      <td>NaN</td>\n",
              "      <td>1.0</td>\n",
              "    </tr>\n",
              "    <tr>\n",
              "      <th>9</th>\n",
              "      <td>Abdon Batista</td>\n",
              "      <td>SC</td>\n",
              "      <td>0</td>\n",
              "      <td>2653.0</td>\n",
              "      <td>2653.0</td>\n",
              "      <td>0.0</td>\n",
              "      <td>848.0</td>\n",
              "      <td>234.0</td>\n",
              "      <td>614.0</td>\n",
              "      <td>724.0</td>\n",
              "      <td>...</td>\n",
              "      <td>1.0</td>\n",
              "      <td>0.0</td>\n",
              "      <td>42909056.0</td>\n",
              "      <td>976.0</td>\n",
              "      <td>345.0</td>\n",
              "      <td>2.0</td>\n",
              "      <td>NaN</td>\n",
              "      <td>NaN</td>\n",
              "      <td>NaN</td>\n",
              "      <td>1.0</td>\n",
              "    </tr>\n",
              "  </tbody>\n",
              "</table>\n",
              "<p>10 rows × 81 columns</p>\n",
              "</div>\n",
              "    <div class=\"colab-df-buttons\">\n",
              "\n",
              "  <div class=\"colab-df-container\">\n",
              "    <button class=\"colab-df-convert\" onclick=\"convertToInteractive('df-342fac2d-c5bf-4472-bc6f-000286b8d56e')\"\n",
              "            title=\"Convert this dataframe to an interactive table.\"\n",
              "            style=\"display:none;\">\n",
              "\n",
              "  <svg xmlns=\"http://www.w3.org/2000/svg\" height=\"24px\" viewBox=\"0 -960 960 960\">\n",
              "    <path d=\"M120-120v-720h720v720H120Zm60-500h600v-160H180v160Zm220 220h160v-160H400v160Zm0 220h160v-160H400v160ZM180-400h160v-160H180v160Zm440 0h160v-160H620v160ZM180-180h160v-160H180v160Zm440 0h160v-160H620v160Z\"/>\n",
              "  </svg>\n",
              "    </button>\n",
              "\n",
              "  <style>\n",
              "    .colab-df-container {\n",
              "      display:flex;\n",
              "      gap: 12px;\n",
              "    }\n",
              "\n",
              "    .colab-df-convert {\n",
              "      background-color: #E8F0FE;\n",
              "      border: none;\n",
              "      border-radius: 50%;\n",
              "      cursor: pointer;\n",
              "      display: none;\n",
              "      fill: #1967D2;\n",
              "      height: 32px;\n",
              "      padding: 0 0 0 0;\n",
              "      width: 32px;\n",
              "    }\n",
              "\n",
              "    .colab-df-convert:hover {\n",
              "      background-color: #E2EBFA;\n",
              "      box-shadow: 0px 1px 2px rgba(60, 64, 67, 0.3), 0px 1px 3px 1px rgba(60, 64, 67, 0.15);\n",
              "      fill: #174EA6;\n",
              "    }\n",
              "\n",
              "    .colab-df-buttons div {\n",
              "      margin-bottom: 4px;\n",
              "    }\n",
              "\n",
              "    [theme=dark] .colab-df-convert {\n",
              "      background-color: #3B4455;\n",
              "      fill: #D2E3FC;\n",
              "    }\n",
              "\n",
              "    [theme=dark] .colab-df-convert:hover {\n",
              "      background-color: #434B5C;\n",
              "      box-shadow: 0px 1px 3px 1px rgba(0, 0, 0, 0.15);\n",
              "      filter: drop-shadow(0px 1px 2px rgba(0, 0, 0, 0.3));\n",
              "      fill: #FFFFFF;\n",
              "    }\n",
              "  </style>\n",
              "\n",
              "    <script>\n",
              "      const buttonEl =\n",
              "        document.querySelector('#df-342fac2d-c5bf-4472-bc6f-000286b8d56e button.colab-df-convert');\n",
              "      buttonEl.style.display =\n",
              "        google.colab.kernel.accessAllowed ? 'block' : 'none';\n",
              "\n",
              "      async function convertToInteractive(key) {\n",
              "        const element = document.querySelector('#df-342fac2d-c5bf-4472-bc6f-000286b8d56e');\n",
              "        const dataTable =\n",
              "          await google.colab.kernel.invokeFunction('convertToInteractive',\n",
              "                                                    [key], {});\n",
              "        if (!dataTable) return;\n",
              "\n",
              "        const docLinkHtml = 'Like what you see? Visit the ' +\n",
              "          '<a target=\"_blank\" href=https://colab.research.google.com/notebooks/data_table.ipynb>data table notebook</a>'\n",
              "          + ' to learn more about interactive tables.';\n",
              "        element.innerHTML = '';\n",
              "        dataTable['output_type'] = 'display_data';\n",
              "        await google.colab.output.renderOutput(dataTable, element);\n",
              "        const docLink = document.createElement('div');\n",
              "        docLink.innerHTML = docLinkHtml;\n",
              "        element.appendChild(docLink);\n",
              "      }\n",
              "    </script>\n",
              "  </div>\n",
              "\n",
              "\n",
              "<div id=\"df-ac756d56-65a5-48f5-8544-c84f60668304\">\n",
              "  <button class=\"colab-df-quickchart\" onclick=\"quickchart('df-ac756d56-65a5-48f5-8544-c84f60668304')\"\n",
              "            title=\"Suggest charts\"\n",
              "            style=\"display:none;\">\n",
              "\n",
              "<svg xmlns=\"http://www.w3.org/2000/svg\" height=\"24px\"viewBox=\"0 0 24 24\"\n",
              "     width=\"24px\">\n",
              "    <g>\n",
              "        <path d=\"M19 3H5c-1.1 0-2 .9-2 2v14c0 1.1.9 2 2 2h14c1.1 0 2-.9 2-2V5c0-1.1-.9-2-2-2zM9 17H7v-7h2v7zm4 0h-2V7h2v10zm4 0h-2v-4h2v4z\"/>\n",
              "    </g>\n",
              "</svg>\n",
              "  </button>\n",
              "\n",
              "<style>\n",
              "  .colab-df-quickchart {\n",
              "      --bg-color: #E8F0FE;\n",
              "      --fill-color: #1967D2;\n",
              "      --hover-bg-color: #E2EBFA;\n",
              "      --hover-fill-color: #174EA6;\n",
              "      --disabled-fill-color: #AAA;\n",
              "      --disabled-bg-color: #DDD;\n",
              "  }\n",
              "\n",
              "  [theme=dark] .colab-df-quickchart {\n",
              "      --bg-color: #3B4455;\n",
              "      --fill-color: #D2E3FC;\n",
              "      --hover-bg-color: #434B5C;\n",
              "      --hover-fill-color: #FFFFFF;\n",
              "      --disabled-bg-color: #3B4455;\n",
              "      --disabled-fill-color: #666;\n",
              "  }\n",
              "\n",
              "  .colab-df-quickchart {\n",
              "    background-color: var(--bg-color);\n",
              "    border: none;\n",
              "    border-radius: 50%;\n",
              "    cursor: pointer;\n",
              "    display: none;\n",
              "    fill: var(--fill-color);\n",
              "    height: 32px;\n",
              "    padding: 0;\n",
              "    width: 32px;\n",
              "  }\n",
              "\n",
              "  .colab-df-quickchart:hover {\n",
              "    background-color: var(--hover-bg-color);\n",
              "    box-shadow: 0 1px 2px rgba(60, 64, 67, 0.3), 0 1px 3px 1px rgba(60, 64, 67, 0.15);\n",
              "    fill: var(--button-hover-fill-color);\n",
              "  }\n",
              "\n",
              "  .colab-df-quickchart-complete:disabled,\n",
              "  .colab-df-quickchart-complete:disabled:hover {\n",
              "    background-color: var(--disabled-bg-color);\n",
              "    fill: var(--disabled-fill-color);\n",
              "    box-shadow: none;\n",
              "  }\n",
              "\n",
              "  .colab-df-spinner {\n",
              "    border: 2px solid var(--fill-color);\n",
              "    border-color: transparent;\n",
              "    border-bottom-color: var(--fill-color);\n",
              "    animation:\n",
              "      spin 1s steps(1) infinite;\n",
              "  }\n",
              "\n",
              "  @keyframes spin {\n",
              "    0% {\n",
              "      border-color: transparent;\n",
              "      border-bottom-color: var(--fill-color);\n",
              "      border-left-color: var(--fill-color);\n",
              "    }\n",
              "    20% {\n",
              "      border-color: transparent;\n",
              "      border-left-color: var(--fill-color);\n",
              "      border-top-color: var(--fill-color);\n",
              "    }\n",
              "    30% {\n",
              "      border-color: transparent;\n",
              "      border-left-color: var(--fill-color);\n",
              "      border-top-color: var(--fill-color);\n",
              "      border-right-color: var(--fill-color);\n",
              "    }\n",
              "    40% {\n",
              "      border-color: transparent;\n",
              "      border-right-color: var(--fill-color);\n",
              "      border-top-color: var(--fill-color);\n",
              "    }\n",
              "    60% {\n",
              "      border-color: transparent;\n",
              "      border-right-color: var(--fill-color);\n",
              "    }\n",
              "    80% {\n",
              "      border-color: transparent;\n",
              "      border-right-color: var(--fill-color);\n",
              "      border-bottom-color: var(--fill-color);\n",
              "    }\n",
              "    90% {\n",
              "      border-color: transparent;\n",
              "      border-bottom-color: var(--fill-color);\n",
              "    }\n",
              "  }\n",
              "</style>\n",
              "\n",
              "  <script>\n",
              "    async function quickchart(key) {\n",
              "      const quickchartButtonEl =\n",
              "        document.querySelector('#' + key + ' button');\n",
              "      quickchartButtonEl.disabled = true;  // To prevent multiple clicks.\n",
              "      quickchartButtonEl.classList.add('colab-df-spinner');\n",
              "      try {\n",
              "        const charts = await google.colab.kernel.invokeFunction(\n",
              "            'suggestCharts', [key], {});\n",
              "      } catch (error) {\n",
              "        console.error('Error during call to suggestCharts:', error);\n",
              "      }\n",
              "      quickchartButtonEl.classList.remove('colab-df-spinner');\n",
              "      quickchartButtonEl.classList.add('colab-df-quickchart-complete');\n",
              "    }\n",
              "    (() => {\n",
              "      let quickchartButtonEl =\n",
              "        document.querySelector('#df-ac756d56-65a5-48f5-8544-c84f60668304 button');\n",
              "      quickchartButtonEl.style.display =\n",
              "        google.colab.kernel.accessAllowed ? 'block' : 'none';\n",
              "    })();\n",
              "  </script>\n",
              "</div>\n",
              "    </div>\n",
              "  </div>\n"
            ],
            "text/plain": [
              "                  CITY STATE  CAPITAL  IBGE_RES_POP  IBGE_RES_POP_BRAS  \\\n",
              "0      Abadia De Goiás    GO        0        6876.0             6876.0   \n",
              "1  Abadia Dos Dourados    MG        0        6704.0             6704.0   \n",
              "2            Abadiânia    GO        0       15757.0            15609.0   \n",
              "3               Abaeté    MG        0       22690.0            22690.0   \n",
              "4           Abaetetuba    PA        0      141100.0           141040.0   \n",
              "5              Abaiara    CE        0       10496.0            10496.0   \n",
              "6               Abaíra    BA        0        8316.0             8316.0   \n",
              "7                Abaré    BA        0       17064.0            17064.0   \n",
              "8               Abatiá    PR        0        7764.0             7764.0   \n",
              "9        Abdon Batista    SC        0        2653.0             2653.0   \n",
              "\n",
              "   IBGE_RES_POP_ESTR  IBGE_DU  IBGE_DU_URBAN  IBGE_DU_RURAL  IBGE_POP  ...  \\\n",
              "0                0.0   2137.0         1546.0          591.0    5300.0  ...   \n",
              "1                0.0   2328.0         1481.0          847.0    4154.0  ...   \n",
              "2              148.0   4655.0         3233.0         1422.0   10656.0  ...   \n",
              "3                0.0   7694.0         6667.0         1027.0   18464.0  ...   \n",
              "4               60.0  31061.0        19057.0        12004.0   82956.0  ...   \n",
              "5                0.0   2791.0         1251.0         1540.0    4538.0  ...   \n",
              "6                0.0   2572.0         1193.0         1379.0    3725.0  ...   \n",
              "7                0.0   4332.0         2379.0         1953.0    8994.0  ...   \n",
              "8                0.0   2499.0         1877.0          622.0    5685.0  ...   \n",
              "9                0.0    848.0          234.0          614.0     724.0  ...   \n",
              "\n",
              "   Pu_Bank   Pr_Assets    Pu_Assets    Cars  Motorcycles  Wheeled_tractor  \\\n",
              "0      NaN         NaN          NaN  2158.0       1246.0              0.0   \n",
              "1      NaN         NaN          NaN  2227.0       1142.0              0.0   \n",
              "2      1.0  33724584.0   67091904.0  2838.0       1426.0              0.0   \n",
              "3      2.0  44974716.0  371922572.0  6928.0       2953.0              0.0   \n",
              "4      4.0  76181384.0  800078483.0  5277.0      25661.0              0.0   \n",
              "5      NaN         NaN          NaN   553.0       1674.0              0.0   \n",
              "6      NaN         NaN          NaN   896.0        696.0              0.0   \n",
              "7      0.0  21823314.0          0.0   613.0       1532.0              0.0   \n",
              "8      1.0         0.0   45976288.0  2168.0        912.0              0.0   \n",
              "9      1.0         0.0   42909056.0   976.0        345.0              2.0   \n",
              "\n",
              "   UBER  MAC  WAL-MART POST_OFFICES  \n",
              "0   NaN  NaN       NaN          1.0  \n",
              "1   NaN  NaN       NaN          1.0  \n",
              "2   NaN  NaN       NaN          3.0  \n",
              "3   NaN  NaN       NaN          4.0  \n",
              "4   NaN  NaN       NaN          2.0  \n",
              "5   NaN  NaN       NaN          1.0  \n",
              "6   NaN  NaN       NaN          1.0  \n",
              "7   NaN  NaN       NaN          1.0  \n",
              "8   NaN  NaN       NaN          1.0  \n",
              "9   NaN  NaN       NaN          1.0  \n",
              "\n",
              "[10 rows x 81 columns]"
            ]
          },
          "execution_count": 4,
          "metadata": {},
          "output_type": "execute_result"
        }
      ],
      "source": [
        "df = pd.read_csv(caminho, sep=';', decimal=',')\n",
        "df.head(10)"
      ]
    },
    {
      "cell_type": "markdown",
      "metadata": {
        "id": "65iiKbEy7yfA"
      },
      "source": [
        "# Tratando dados\n",
        "---"
      ]
    },
    {
      "cell_type": "code",
      "execution_count": 5,
      "metadata": {
        "colab": {
          "base_uri": "https://localhost:8080/"
        },
        "id": "dQTpHtq3ymvz",
        "outputId": "dc206cb7-0573-46b5-b636-06fb92074920"
      },
      "outputs": [
        {
          "data": {
            "text/plain": [
              "Index(['CITY', 'STATE', 'CAPITAL', 'IBGE_RES_POP', 'IBGE_RES_POP_BRAS',\n",
              "       'IBGE_RES_POP_ESTR', 'IBGE_DU', 'IBGE_DU_URBAN', 'IBGE_DU_RURAL',\n",
              "       'IBGE_POP', 'IBGE_1', 'IBGE_14', 'IBGE_59', 'IBGE_1014', 'IBGE_1559',\n",
              "       'IBGE_60+', 'IBGE_PLANTED_AREA', 'IBGE_CROP_PRODUCTION_$',\n",
              "       'IDHM_RANKING_2010', 'IDHM', 'IDHM_RENDA', 'IDHM_LONGEVIDADE',\n",
              "       'IDHM_EDUCACAO', 'LONG', 'LAT', 'ALT', 'PAY_TV', 'FIXED_PHONES', 'AREA',\n",
              "       'REGIAO_TUR', 'CATEGORIA_TUR', 'ESTIMATED_POP', 'RURAL_URBAN',\n",
              "       'GVA_AGROPEC', 'GVA_INDUSTRY', 'GVA_SERVICES', 'GVA_PUBLIC',\n",
              "       '_GVA_TOTAL_', 'TAXES', 'GDP', 'POP_GDP', 'GDP_CAPITA', 'GVA_MAIN',\n",
              "       'MUN_EXPENDIT', 'COMP_TOT', 'COMP_A', 'COMP_B', 'COMP_C', 'COMP_D',\n",
              "       'COMP_E', 'COMP_F', 'COMP_G', 'COMP_H', 'COMP_I', 'COMP_J', 'COMP_K',\n",
              "       'COMP_L', 'COMP_M', 'COMP_N', 'COMP_O', 'COMP_P', 'COMP_Q', 'COMP_R',\n",
              "       'COMP_S', 'COMP_T', 'COMP_U', 'HOTELS', 'BEDS', 'PR_AGENCIES',\n",
              "       'PU_AGENCIES', 'PR_BANK', 'PU_BANK', 'PR_ASSETS', 'PU_ASSETS', 'CARS',\n",
              "       'MOTORCYCLES', 'WHEELED_TRACTOR', 'UBER', 'MAC', 'WALMART',\n",
              "       'POST_OFFICES'],\n",
              "      dtype='object')"
            ]
          },
          "execution_count": 5,
          "metadata": {},
          "output_type": "execute_result"
        }
      ],
      "source": [
        "df.columns = df.columns.str.replace(\n",
        "    ' ', '_').str.replace('-', '').str.upper().str.strip()\n",
        "df.columns"
      ]
    },
    {
      "cell_type": "code",
      "execution_count": 6,
      "metadata": {
        "id": "CUydPwS8yhYr"
      },
      "outputs": [],
      "source": [
        "colunas = ['CITY',\n",
        "           'STATE',\n",
        "           'CAPITAL',\n",
        "           'IBGE_RES_POP',\n",
        "           'AREA',\n",
        "           'RURAL_URBAN',\n",
        "           'IDHM',\n",
        "           'LONG',\n",
        "           'LAT',\n",
        "           'ALT',\n",
        "           'ESTIMATED_POP',\n",
        "           'GDP',\n",
        "           'TAXES',\n",
        "           'GDP_CAPITA',\n",
        "           'COMP_TOT',\n",
        "           'MUN_EXPENDIT',\n",
        "           'GVA_AGROPEC',\n",
        "           'WHEELED_TRACTOR',\n",
        "           'IBGE_PLANTED_AREA']"
      ]
    },
    {
      "cell_type": "code",
      "execution_count": 7,
      "metadata": {
        "colab": {
          "base_uri": "https://localhost:8080/",
          "height": 539
        },
        "id": "YtbmSD_OzPcT",
        "outputId": "6881cd7e-0200-4317-bac2-264c1df6e995"
      },
      "outputs": [
        {
          "data": {
            "application/vnd.google.colaboratory.intrinsic+json": {
              "summary": "{\n  \"name\": \"df\",\n  \"rows\": 5573,\n  \"fields\": [\n    {\n      \"column\": \"CITY\",\n      \"properties\": {\n        \"dtype\": \"string\",\n        \"num_unique_values\": 5299,\n        \"samples\": [\n          \"Tanque D'Arca\",\n          \"Pastos Bons\",\n          \"Bom Jesus Do Sul\"\n        ],\n        \"semantic_type\": \"\",\n        \"description\": \"\"\n      }\n    },\n    {\n      \"column\": \"STATE\",\n      \"properties\": {\n        \"dtype\": \"category\",\n        \"num_unique_values\": 27,\n        \"samples\": [\n          \"TO\",\n          \"MT\",\n          \"MA\"\n        ],\n        \"semantic_type\": \"\",\n        \"description\": \"\"\n      }\n    },\n    {\n      \"column\": \"CAPITAL\",\n      \"properties\": {\n        \"dtype\": \"number\",\n        \"std\": 0,\n        \"min\": 0,\n        \"max\": 1,\n        \"num_unique_values\": 2,\n        \"samples\": [\n          1,\n          0\n        ],\n        \"semantic_type\": \"\",\n        \"description\": \"\"\n      }\n    },\n    {\n      \"column\": \"IBGE_RES_POP\",\n      \"properties\": {\n        \"dtype\": \"number\",\n        \"std\": 203112.62242404092,\n        \"min\": 805.0,\n        \"max\": 11253503.0,\n        \"num_unique_values\": 5043,\n        \"samples\": [\n          13786.0,\n          13872.0\n        ],\n        \"semantic_type\": \"\",\n        \"description\": \"\"\n      }\n    },\n    {\n      \"column\": \"AREA\",\n      \"properties\": {\n        \"dtype\": \"string\",\n        \"num_unique_values\": 5444,\n        \"samples\": [\n          \"703.37\",\n          \"720.45\"\n        ],\n        \"semantic_type\": \"\",\n        \"description\": \"\"\n      }\n    },\n    {\n      \"column\": \"RURAL_URBAN\",\n      \"properties\": {\n        \"dtype\": \"category\",\n        \"num_unique_values\": 6,\n        \"samples\": [\n          \"Urbano\",\n          \"Rural Adjacente\"\n        ],\n        \"semantic_type\": \"\",\n        \"description\": \"\"\n      }\n    },\n    {\n      \"column\": \"IDHM\",\n      \"properties\": {\n        \"dtype\": \"category\",\n        \"num_unique_values\": 271,\n        \"samples\": [\n          \"0.529\",\n          \"0.581\"\n        ],\n        \"semantic_type\": \"\",\n        \"description\": \"\"\n      }\n    },\n    {\n      \"column\": \"LONG\",\n      \"properties\": {\n        \"dtype\": \"string\",\n        \"num_unique_values\": 5564,\n        \"samples\": [\n          \"-50.33932852\",\n          \"-42.14571184\"\n        ],\n        \"semantic_type\": \"\",\n        \"description\": \"\"\n      }\n    },\n    {\n      \"column\": \"LAT\",\n      \"properties\": {\n        \"dtype\": \"string\",\n        \"num_unique_values\": 5564,\n        \"samples\": [\n          \"-21.29239229\",\n          \"-14.03002899\"\n        ],\n        \"semantic_type\": \"\",\n        \"description\": \"\"\n      }\n    },\n    {\n      \"column\": \"ALT\",\n      \"properties\": {\n        \"dtype\": \"string\",\n        \"num_unique_values\": 5369,\n        \"samples\": [\n          \"409.47\",\n          \"61.11\"\n        ],\n        \"semantic_type\": \"\",\n        \"description\": \"\"\n      }\n    },\n    {\n      \"column\": \"ESTIMATED_POP\",\n      \"properties\": {\n        \"dtype\": \"number\",\n        \"std\": 219969.00306512794,\n        \"min\": 786.0,\n        \"max\": 12176866.0,\n        \"num_unique_values\": 5095,\n        \"samples\": [\n          6246.0,\n          2475.0\n        ],\n        \"semantic_type\": \"\",\n        \"description\": \"\"\n      }\n    },\n    {\n      \"column\": \"GDP\",\n      \"properties\": {\n        \"dtype\": \"string\",\n        \"num_unique_values\": 5556,\n        \"samples\": [\n          \"50944.32\",\n          \"478984.42\"\n        ],\n        \"semantic_type\": \"\",\n        \"description\": \"\"\n      }\n    },\n    {\n      \"column\": \"TAXES\",\n      \"properties\": {\n        \"dtype\": \"string\",\n        \"num_unique_values\": 5357,\n        \"samples\": [\n          \"9852.85\",\n          \"35074.41\"\n        ],\n        \"semantic_type\": \"\",\n        \"description\": \"\"\n      }\n    },\n    {\n      \"column\": \"GDP_CAPITA\",\n      \"properties\": {\n        \"dtype\": \"string\",\n        \"num_unique_values\": 5567,\n        \"samples\": [\n          \"54076.6\",\n          \"7115.49\"\n        ],\n        \"semantic_type\": \"\",\n        \"description\": \"\"\n      }\n    },\n    {\n      \"column\": \"COMP_TOT\",\n      \"properties\": {\n        \"dtype\": \"number\",\n        \"std\": 8333.768198888903,\n        \"min\": 6.0,\n        \"max\": 530446.0,\n        \"num_unique_values\": 1457,\n        \"samples\": [\n          882.0,\n          1588.0\n        ],\n        \"semantic_type\": \"\",\n        \"description\": \"\"\n      }\n    },\n    {\n      \"column\": \"MUN_EXPENDIT\",\n      \"properties\": {\n        \"dtype\": \"number\",\n        \"std\": 864577296.2335018,\n        \"min\": 1420804.0,\n        \"max\": 45772497944.0,\n        \"num_unique_values\": 4071,\n        \"samples\": [\n          31874081.0,\n          88800070.0\n        ],\n        \"semantic_type\": \"\",\n        \"description\": \"\"\n      }\n    },\n    {\n      \"column\": \"GVA_AGROPEC\",\n      \"properties\": {\n        \"dtype\": \"string\",\n        \"num_unique_values\": 5502,\n        \"samples\": [\n          \"42745.38\",\n          \"252675.81\"\n        ],\n        \"semantic_type\": \"\",\n        \"description\": \"\"\n      }\n    },\n    {\n      \"column\": \"WHEELED_TRACTOR\",\n      \"properties\": {\n        \"dtype\": \"number\",\n        \"std\": 55.38027395788954,\n        \"min\": 0.0,\n        \"max\": 3236.0,\n        \"num_unique_values\": 130,\n        \"samples\": [\n          250.0,\n          29.0\n        ],\n        \"semantic_type\": \"\",\n        \"description\": \"\"\n      }\n    },\n    {\n      \"column\": \"IBGE_PLANTED_AREA\",\n      \"properties\": {\n        \"dtype\": \"number\",\n        \"std\": 44059.23599376776,\n        \"min\": 0.0,\n        \"max\": 1205669.0,\n        \"num_unique_values\": 4339,\n        \"samples\": [\n          39569.0,\n          523.0\n        ],\n        \"semantic_type\": \"\",\n        \"description\": \"\"\n      }\n    }\n  ]\n}",
              "type": "dataframe",
              "variable_name": "df"
            },
            "text/html": [
              "\n",
              "  <div id=\"df-27e2e560-b53b-46b4-80b6-5fa1b107aa24\" class=\"colab-df-container\">\n",
              "    <div>\n",
              "<style scoped>\n",
              "    .dataframe tbody tr th:only-of-type {\n",
              "        vertical-align: middle;\n",
              "    }\n",
              "\n",
              "    .dataframe tbody tr th {\n",
              "        vertical-align: top;\n",
              "    }\n",
              "\n",
              "    .dataframe thead th {\n",
              "        text-align: right;\n",
              "    }\n",
              "</style>\n",
              "<table border=\"1\" class=\"dataframe\">\n",
              "  <thead>\n",
              "    <tr style=\"text-align: right;\">\n",
              "      <th></th>\n",
              "      <th>CITY</th>\n",
              "      <th>STATE</th>\n",
              "      <th>CAPITAL</th>\n",
              "      <th>IBGE_RES_POP</th>\n",
              "      <th>AREA</th>\n",
              "      <th>RURAL_URBAN</th>\n",
              "      <th>IDHM</th>\n",
              "      <th>LONG</th>\n",
              "      <th>LAT</th>\n",
              "      <th>ALT</th>\n",
              "      <th>ESTIMATED_POP</th>\n",
              "      <th>GDP</th>\n",
              "      <th>TAXES</th>\n",
              "      <th>GDP_CAPITA</th>\n",
              "      <th>COMP_TOT</th>\n",
              "      <th>MUN_EXPENDIT</th>\n",
              "      <th>GVA_AGROPEC</th>\n",
              "      <th>WHEELED_TRACTOR</th>\n",
              "      <th>IBGE_PLANTED_AREA</th>\n",
              "    </tr>\n",
              "  </thead>\n",
              "  <tbody>\n",
              "    <tr>\n",
              "      <th>0</th>\n",
              "      <td>Abadia De Goiás</td>\n",
              "      <td>GO</td>\n",
              "      <td>0</td>\n",
              "      <td>6876.0</td>\n",
              "      <td>147.26</td>\n",
              "      <td>Urbano</td>\n",
              "      <td>0.708</td>\n",
              "      <td>-49.44054783</td>\n",
              "      <td>-16.75881189</td>\n",
              "      <td>893.6</td>\n",
              "      <td>8583.0</td>\n",
              "      <td>166.41</td>\n",
              "      <td>20554.2</td>\n",
              "      <td>20664.57</td>\n",
              "      <td>284.0</td>\n",
              "      <td>28227691.0</td>\n",
              "      <td>6.2</td>\n",
              "      <td>0.0</td>\n",
              "      <td>319.0</td>\n",
              "    </tr>\n",
              "    <tr>\n",
              "      <th>1</th>\n",
              "      <td>Abadia Dos Dourados</td>\n",
              "      <td>MG</td>\n",
              "      <td>0</td>\n",
              "      <td>6704.0</td>\n",
              "      <td>881.06</td>\n",
              "      <td>Rural Adjacente</td>\n",
              "      <td>0.69</td>\n",
              "      <td>-47.39683244</td>\n",
              "      <td>-18.48756496</td>\n",
              "      <td>753.12</td>\n",
              "      <td>6972.0</td>\n",
              "      <td>180.09</td>\n",
              "      <td>12873.5</td>\n",
              "      <td>25591.7</td>\n",
              "      <td>476.0</td>\n",
              "      <td>17909274.0</td>\n",
              "      <td>50524.57</td>\n",
              "      <td>0.0</td>\n",
              "      <td>4479.0</td>\n",
              "    </tr>\n",
              "    <tr>\n",
              "      <th>2</th>\n",
              "      <td>Abadiânia</td>\n",
              "      <td>GO</td>\n",
              "      <td>0</td>\n",
              "      <td>15757.0</td>\n",
              "      <td>1,045.13</td>\n",
              "      <td>Rural Adjacente</td>\n",
              "      <td>0.69</td>\n",
              "      <td>-48.71881214</td>\n",
              "      <td>-16.18267186</td>\n",
              "      <td>1017.55</td>\n",
              "      <td>19614.0</td>\n",
              "      <td>287984.49</td>\n",
              "      <td>26822.58</td>\n",
              "      <td>15628.4</td>\n",
              "      <td>288.0</td>\n",
              "      <td>37513019.0</td>\n",
              "      <td>42.84</td>\n",
              "      <td>0.0</td>\n",
              "      <td>10307.0</td>\n",
              "    </tr>\n",
              "    <tr>\n",
              "      <th>3</th>\n",
              "      <td>Abaeté</td>\n",
              "      <td>MG</td>\n",
              "      <td>0</td>\n",
              "      <td>22690.0</td>\n",
              "      <td>1,817.07</td>\n",
              "      <td>Urbano</td>\n",
              "      <td>0.698</td>\n",
              "      <td>-45.44619142</td>\n",
              "      <td>-19.15584769</td>\n",
              "      <td>644.74</td>\n",
              "      <td>23223.0</td>\n",
              "      <td>430235.36</td>\n",
              "      <td>26994.09</td>\n",
              "      <td>18250.42</td>\n",
              "      <td>621.0</td>\n",
              "      <td>NaN</td>\n",
              "      <td>113824.6</td>\n",
              "      <td>0.0</td>\n",
              "      <td>1862.0</td>\n",
              "    </tr>\n",
              "    <tr>\n",
              "      <th>4</th>\n",
              "      <td>Abaetetuba</td>\n",
              "      <td>PA</td>\n",
              "      <td>0</td>\n",
              "      <td>141100.0</td>\n",
              "      <td>1,610.65</td>\n",
              "      <td>Urbano</td>\n",
              "      <td>0.628</td>\n",
              "      <td>-48.88440382</td>\n",
              "      <td>-1.723469863</td>\n",
              "      <td>10.12</td>\n",
              "      <td>156292.0</td>\n",
              "      <td>1249255.29</td>\n",
              "      <td>95180.48</td>\n",
              "      <td>8222.36</td>\n",
              "      <td>931.0</td>\n",
              "      <td>NaN</td>\n",
              "      <td>140463.72</td>\n",
              "      <td>0.0</td>\n",
              "      <td>25200.0</td>\n",
              "    </tr>\n",
              "    <tr>\n",
              "      <th>5</th>\n",
              "      <td>Abaiara</td>\n",
              "      <td>CE</td>\n",
              "      <td>0</td>\n",
              "      <td>10496.0</td>\n",
              "      <td>180.08</td>\n",
              "      <td>Rural Adjacente</td>\n",
              "      <td>0.628</td>\n",
              "      <td>-39.04754664</td>\n",
              "      <td>-7.356976596</td>\n",
              "      <td>403.11</td>\n",
              "      <td>11663.0</td>\n",
              "      <td>73151.46</td>\n",
              "      <td>4042.79</td>\n",
              "      <td>6370.41</td>\n",
              "      <td>86.0</td>\n",
              "      <td>NaN</td>\n",
              "      <td>4435.16</td>\n",
              "      <td>0.0</td>\n",
              "      <td>2598.0</td>\n",
              "    </tr>\n",
              "    <tr>\n",
              "      <th>6</th>\n",
              "      <td>Abaíra</td>\n",
              "      <td>BA</td>\n",
              "      <td>0</td>\n",
              "      <td>8316.0</td>\n",
              "      <td>538.68</td>\n",
              "      <td>Rural Remoto</td>\n",
              "      <td>0.603</td>\n",
              "      <td>-41.66160848</td>\n",
              "      <td>-13.25353189</td>\n",
              "      <td>674.22</td>\n",
              "      <td>8767.0</td>\n",
              "      <td>64324.59</td>\n",
              "      <td>2019.77</td>\n",
              "      <td>6982.7</td>\n",
              "      <td>191.0</td>\n",
              "      <td>NaN</td>\n",
              "      <td>12.41</td>\n",
              "      <td>0.0</td>\n",
              "      <td>895.0</td>\n",
              "    </tr>\n",
              "    <tr>\n",
              "      <th>7</th>\n",
              "      <td>Abaré</td>\n",
              "      <td>BA</td>\n",
              "      <td>0</td>\n",
              "      <td>17064.0</td>\n",
              "      <td>1,604.92</td>\n",
              "      <td>Rural Remoto</td>\n",
              "      <td>0.575</td>\n",
              "      <td>-39.11658794</td>\n",
              "      <td>-8.723418246</td>\n",
              "      <td>316.38</td>\n",
              "      <td>19814.0</td>\n",
              "      <td>124754.26</td>\n",
              "      <td>6.21</td>\n",
              "      <td>6256.8</td>\n",
              "      <td>87.0</td>\n",
              "      <td>NaN</td>\n",
              "      <td>9176.4</td>\n",
              "      <td>0.0</td>\n",
              "      <td>2058.0</td>\n",
              "    </tr>\n",
              "    <tr>\n",
              "      <th>8</th>\n",
              "      <td>Abatiá</td>\n",
              "      <td>PR</td>\n",
              "      <td>0</td>\n",
              "      <td>7764.0</td>\n",
              "      <td>228.72</td>\n",
              "      <td>Rural Adjacente</td>\n",
              "      <td>0.687</td>\n",
              "      <td>-50.31252658</td>\n",
              "      <td>-23.30049404</td>\n",
              "      <td>579.3</td>\n",
              "      <td>7507.0</td>\n",
              "      <td>165048.21</td>\n",
              "      <td>5.77</td>\n",
              "      <td>21173.6</td>\n",
              "      <td>285.0</td>\n",
              "      <td>NaN</td>\n",
              "      <td>73340.52</td>\n",
              "      <td>0.0</td>\n",
              "      <td>1197.0</td>\n",
              "    </tr>\n",
              "    <tr>\n",
              "      <th>9</th>\n",
              "      <td>Abdon Batista</td>\n",
              "      <td>SC</td>\n",
              "      <td>0</td>\n",
              "      <td>2653.0</td>\n",
              "      <td>237.16</td>\n",
              "      <td>Rural Adjacente</td>\n",
              "      <td>0.69</td>\n",
              "      <td>-51.02527221</td>\n",
              "      <td>-27.60898712</td>\n",
              "      <td>720.98</td>\n",
              "      <td>2577.0</td>\n",
              "      <td>64742.01</td>\n",
              "      <td>2312.65</td>\n",
              "      <td>24739.02</td>\n",
              "      <td>69.0</td>\n",
              "      <td>19506956.0</td>\n",
              "      <td>24996.75</td>\n",
              "      <td>2.0</td>\n",
              "      <td>5502.0</td>\n",
              "    </tr>\n",
              "  </tbody>\n",
              "</table>\n",
              "</div>\n",
              "    <div class=\"colab-df-buttons\">\n",
              "\n",
              "  <div class=\"colab-df-container\">\n",
              "    <button class=\"colab-df-convert\" onclick=\"convertToInteractive('df-27e2e560-b53b-46b4-80b6-5fa1b107aa24')\"\n",
              "            title=\"Convert this dataframe to an interactive table.\"\n",
              "            style=\"display:none;\">\n",
              "\n",
              "  <svg xmlns=\"http://www.w3.org/2000/svg\" height=\"24px\" viewBox=\"0 -960 960 960\">\n",
              "    <path d=\"M120-120v-720h720v720H120Zm60-500h600v-160H180v160Zm220 220h160v-160H400v160Zm0 220h160v-160H400v160ZM180-400h160v-160H180v160Zm440 0h160v-160H620v160ZM180-180h160v-160H180v160Zm440 0h160v-160H620v160Z\"/>\n",
              "  </svg>\n",
              "    </button>\n",
              "\n",
              "  <style>\n",
              "    .colab-df-container {\n",
              "      display:flex;\n",
              "      gap: 12px;\n",
              "    }\n",
              "\n",
              "    .colab-df-convert {\n",
              "      background-color: #E8F0FE;\n",
              "      border: none;\n",
              "      border-radius: 50%;\n",
              "      cursor: pointer;\n",
              "      display: none;\n",
              "      fill: #1967D2;\n",
              "      height: 32px;\n",
              "      padding: 0 0 0 0;\n",
              "      width: 32px;\n",
              "    }\n",
              "\n",
              "    .colab-df-convert:hover {\n",
              "      background-color: #E2EBFA;\n",
              "      box-shadow: 0px 1px 2px rgba(60, 64, 67, 0.3), 0px 1px 3px 1px rgba(60, 64, 67, 0.15);\n",
              "      fill: #174EA6;\n",
              "    }\n",
              "\n",
              "    .colab-df-buttons div {\n",
              "      margin-bottom: 4px;\n",
              "    }\n",
              "\n",
              "    [theme=dark] .colab-df-convert {\n",
              "      background-color: #3B4455;\n",
              "      fill: #D2E3FC;\n",
              "    }\n",
              "\n",
              "    [theme=dark] .colab-df-convert:hover {\n",
              "      background-color: #434B5C;\n",
              "      box-shadow: 0px 1px 3px 1px rgba(0, 0, 0, 0.15);\n",
              "      filter: drop-shadow(0px 1px 2px rgba(0, 0, 0, 0.3));\n",
              "      fill: #FFFFFF;\n",
              "    }\n",
              "  </style>\n",
              "\n",
              "    <script>\n",
              "      const buttonEl =\n",
              "        document.querySelector('#df-27e2e560-b53b-46b4-80b6-5fa1b107aa24 button.colab-df-convert');\n",
              "      buttonEl.style.display =\n",
              "        google.colab.kernel.accessAllowed ? 'block' : 'none';\n",
              "\n",
              "      async function convertToInteractive(key) {\n",
              "        const element = document.querySelector('#df-27e2e560-b53b-46b4-80b6-5fa1b107aa24');\n",
              "        const dataTable =\n",
              "          await google.colab.kernel.invokeFunction('convertToInteractive',\n",
              "                                                    [key], {});\n",
              "        if (!dataTable) return;\n",
              "\n",
              "        const docLinkHtml = 'Like what you see? Visit the ' +\n",
              "          '<a target=\"_blank\" href=https://colab.research.google.com/notebooks/data_table.ipynb>data table notebook</a>'\n",
              "          + ' to learn more about interactive tables.';\n",
              "        element.innerHTML = '';\n",
              "        dataTable['output_type'] = 'display_data';\n",
              "        await google.colab.output.renderOutput(dataTable, element);\n",
              "        const docLink = document.createElement('div');\n",
              "        docLink.innerHTML = docLinkHtml;\n",
              "        element.appendChild(docLink);\n",
              "      }\n",
              "    </script>\n",
              "  </div>\n",
              "\n",
              "\n",
              "<div id=\"df-2e637b6e-4ca8-4b71-898a-51d2d71f5366\">\n",
              "  <button class=\"colab-df-quickchart\" onclick=\"quickchart('df-2e637b6e-4ca8-4b71-898a-51d2d71f5366')\"\n",
              "            title=\"Suggest charts\"\n",
              "            style=\"display:none;\">\n",
              "\n",
              "<svg xmlns=\"http://www.w3.org/2000/svg\" height=\"24px\"viewBox=\"0 0 24 24\"\n",
              "     width=\"24px\">\n",
              "    <g>\n",
              "        <path d=\"M19 3H5c-1.1 0-2 .9-2 2v14c0 1.1.9 2 2 2h14c1.1 0 2-.9 2-2V5c0-1.1-.9-2-2-2zM9 17H7v-7h2v7zm4 0h-2V7h2v10zm4 0h-2v-4h2v4z\"/>\n",
              "    </g>\n",
              "</svg>\n",
              "  </button>\n",
              "\n",
              "<style>\n",
              "  .colab-df-quickchart {\n",
              "      --bg-color: #E8F0FE;\n",
              "      --fill-color: #1967D2;\n",
              "      --hover-bg-color: #E2EBFA;\n",
              "      --hover-fill-color: #174EA6;\n",
              "      --disabled-fill-color: #AAA;\n",
              "      --disabled-bg-color: #DDD;\n",
              "  }\n",
              "\n",
              "  [theme=dark] .colab-df-quickchart {\n",
              "      --bg-color: #3B4455;\n",
              "      --fill-color: #D2E3FC;\n",
              "      --hover-bg-color: #434B5C;\n",
              "      --hover-fill-color: #FFFFFF;\n",
              "      --disabled-bg-color: #3B4455;\n",
              "      --disabled-fill-color: #666;\n",
              "  }\n",
              "\n",
              "  .colab-df-quickchart {\n",
              "    background-color: var(--bg-color);\n",
              "    border: none;\n",
              "    border-radius: 50%;\n",
              "    cursor: pointer;\n",
              "    display: none;\n",
              "    fill: var(--fill-color);\n",
              "    height: 32px;\n",
              "    padding: 0;\n",
              "    width: 32px;\n",
              "  }\n",
              "\n",
              "  .colab-df-quickchart:hover {\n",
              "    background-color: var(--hover-bg-color);\n",
              "    box-shadow: 0 1px 2px rgba(60, 64, 67, 0.3), 0 1px 3px 1px rgba(60, 64, 67, 0.15);\n",
              "    fill: var(--button-hover-fill-color);\n",
              "  }\n",
              "\n",
              "  .colab-df-quickchart-complete:disabled,\n",
              "  .colab-df-quickchart-complete:disabled:hover {\n",
              "    background-color: var(--disabled-bg-color);\n",
              "    fill: var(--disabled-fill-color);\n",
              "    box-shadow: none;\n",
              "  }\n",
              "\n",
              "  .colab-df-spinner {\n",
              "    border: 2px solid var(--fill-color);\n",
              "    border-color: transparent;\n",
              "    border-bottom-color: var(--fill-color);\n",
              "    animation:\n",
              "      spin 1s steps(1) infinite;\n",
              "  }\n",
              "\n",
              "  @keyframes spin {\n",
              "    0% {\n",
              "      border-color: transparent;\n",
              "      border-bottom-color: var(--fill-color);\n",
              "      border-left-color: var(--fill-color);\n",
              "    }\n",
              "    20% {\n",
              "      border-color: transparent;\n",
              "      border-left-color: var(--fill-color);\n",
              "      border-top-color: var(--fill-color);\n",
              "    }\n",
              "    30% {\n",
              "      border-color: transparent;\n",
              "      border-left-color: var(--fill-color);\n",
              "      border-top-color: var(--fill-color);\n",
              "      border-right-color: var(--fill-color);\n",
              "    }\n",
              "    40% {\n",
              "      border-color: transparent;\n",
              "      border-right-color: var(--fill-color);\n",
              "      border-top-color: var(--fill-color);\n",
              "    }\n",
              "    60% {\n",
              "      border-color: transparent;\n",
              "      border-right-color: var(--fill-color);\n",
              "    }\n",
              "    80% {\n",
              "      border-color: transparent;\n",
              "      border-right-color: var(--fill-color);\n",
              "      border-bottom-color: var(--fill-color);\n",
              "    }\n",
              "    90% {\n",
              "      border-color: transparent;\n",
              "      border-bottom-color: var(--fill-color);\n",
              "    }\n",
              "  }\n",
              "</style>\n",
              "\n",
              "  <script>\n",
              "    async function quickchart(key) {\n",
              "      const quickchartButtonEl =\n",
              "        document.querySelector('#' + key + ' button');\n",
              "      quickchartButtonEl.disabled = true;  // To prevent multiple clicks.\n",
              "      quickchartButtonEl.classList.add('colab-df-spinner');\n",
              "      try {\n",
              "        const charts = await google.colab.kernel.invokeFunction(\n",
              "            'suggestCharts', [key], {});\n",
              "      } catch (error) {\n",
              "        console.error('Error during call to suggestCharts:', error);\n",
              "      }\n",
              "      quickchartButtonEl.classList.remove('colab-df-spinner');\n",
              "      quickchartButtonEl.classList.add('colab-df-quickchart-complete');\n",
              "    }\n",
              "    (() => {\n",
              "      let quickchartButtonEl =\n",
              "        document.querySelector('#df-2e637b6e-4ca8-4b71-898a-51d2d71f5366 button');\n",
              "      quickchartButtonEl.style.display =\n",
              "        google.colab.kernel.accessAllowed ? 'block' : 'none';\n",
              "    })();\n",
              "  </script>\n",
              "</div>\n",
              "    </div>\n",
              "  </div>\n"
            ],
            "text/plain": [
              "                  CITY STATE  CAPITAL  IBGE_RES_POP      AREA  \\\n",
              "0      Abadia De Goiás    GO        0        6876.0    147.26   \n",
              "1  Abadia Dos Dourados    MG        0        6704.0    881.06   \n",
              "2            Abadiânia    GO        0       15757.0  1,045.13   \n",
              "3               Abaeté    MG        0       22690.0  1,817.07   \n",
              "4           Abaetetuba    PA        0      141100.0  1,610.65   \n",
              "5              Abaiara    CE        0       10496.0    180.08   \n",
              "6               Abaíra    BA        0        8316.0    538.68   \n",
              "7                Abaré    BA        0       17064.0  1,604.92   \n",
              "8               Abatiá    PR        0        7764.0    228.72   \n",
              "9        Abdon Batista    SC        0        2653.0    237.16   \n",
              "\n",
              "       RURAL_URBAN   IDHM          LONG           LAT      ALT  ESTIMATED_POP  \\\n",
              "0           Urbano  0.708  -49.44054783  -16.75881189    893.6         8583.0   \n",
              "1  Rural Adjacente   0.69  -47.39683244  -18.48756496   753.12         6972.0   \n",
              "2  Rural Adjacente   0.69  -48.71881214  -16.18267186  1017.55        19614.0   \n",
              "3           Urbano  0.698  -45.44619142  -19.15584769   644.74        23223.0   \n",
              "4           Urbano  0.628  -48.88440382  -1.723469863    10.12       156292.0   \n",
              "5  Rural Adjacente  0.628  -39.04754664  -7.356976596   403.11        11663.0   \n",
              "6     Rural Remoto  0.603  -41.66160848  -13.25353189   674.22         8767.0   \n",
              "7     Rural Remoto  0.575  -39.11658794  -8.723418246   316.38        19814.0   \n",
              "8  Rural Adjacente  0.687  -50.31252658  -23.30049404    579.3         7507.0   \n",
              "9  Rural Adjacente   0.69  -51.02527221  -27.60898712   720.98         2577.0   \n",
              "\n",
              "          GDP     TAXES GDP_CAPITA  COMP_TOT  MUN_EXPENDIT GVA_AGROPEC  \\\n",
              "0      166.41   20554.2   20664.57     284.0    28227691.0         6.2   \n",
              "1      180.09   12873.5    25591.7     476.0    17909274.0    50524.57   \n",
              "2   287984.49  26822.58    15628.4     288.0    37513019.0       42.84   \n",
              "3   430235.36  26994.09   18250.42     621.0           NaN    113824.6   \n",
              "4  1249255.29  95180.48    8222.36     931.0           NaN   140463.72   \n",
              "5    73151.46   4042.79    6370.41      86.0           NaN     4435.16   \n",
              "6    64324.59   2019.77     6982.7     191.0           NaN       12.41   \n",
              "7   124754.26      6.21     6256.8      87.0           NaN      9176.4   \n",
              "8   165048.21      5.77    21173.6     285.0           NaN    73340.52   \n",
              "9    64742.01   2312.65   24739.02      69.0    19506956.0    24996.75   \n",
              "\n",
              "   WHEELED_TRACTOR  IBGE_PLANTED_AREA  \n",
              "0              0.0              319.0  \n",
              "1              0.0             4479.0  \n",
              "2              0.0            10307.0  \n",
              "3              0.0             1862.0  \n",
              "4              0.0            25200.0  \n",
              "5              0.0             2598.0  \n",
              "6              0.0              895.0  \n",
              "7              0.0             2058.0  \n",
              "8              0.0             1197.0  \n",
              "9              2.0             5502.0  "
            ]
          },
          "execution_count": 7,
          "metadata": {},
          "output_type": "execute_result"
        }
      ],
      "source": [
        "df = df[colunas].copy()\n",
        "df.head(10)"
      ]
    },
    {
      "cell_type": "code",
      "execution_count": 8,
      "metadata": {
        "colab": {
          "base_uri": "https://localhost:8080/"
        },
        "id": "PgxA9cjJzm8u",
        "outputId": "95cbad07-639a-47c2-e974-72666f2938ea"
      },
      "outputs": [
        {
          "data": {
            "text/plain": [
              "Index(['CITY', 'STATE', 'CAPITAL', 'IBGE_RES_POP', 'AREA', 'RURAL_URBAN',\n",
              "       'IDHM', 'LONG', 'LAT', 'ALT', 'ESTIMATED_POP', 'GDP', 'TAXES',\n",
              "       'GDP_CAPITA', 'COMP_TOT', 'MUN_EXPENDIT', 'GVA_AGROPEC',\n",
              "       'WHEELED_TRACTOR', 'IBGE_PLANTED_AREA'],\n",
              "      dtype='object')"
            ]
          },
          "execution_count": 8,
          "metadata": {},
          "output_type": "execute_result"
        }
      ],
      "source": [
        "df.columns"
      ]
    },
    {
      "cell_type": "code",
      "execution_count": 9,
      "metadata": {
        "colab": {
          "base_uri": "https://localhost:8080/"
        },
        "id": "TcKpurErzUaa",
        "outputId": "8753dd0a-74a1-407e-acc6-44a791a6d489"
      },
      "outputs": [
        {
          "data": {
            "text/plain": [
              "array([0, 1])"
            ]
          },
          "execution_count": 9,
          "metadata": {},
          "output_type": "execute_result"
        }
      ],
      "source": [
        "df.CAPITAL.unique()"
      ]
    },
    {
      "cell_type": "code",
      "execution_count": 10,
      "metadata": {
        "colab": {
          "base_uri": "https://localhost:8080/"
        },
        "id": "yfiJDn8vzXuf",
        "outputId": "0eded9d7-776c-48f6-c1e7-91d221305ba6"
      },
      "outputs": [
        {
          "data": {
            "text/plain": [
              "array(['NÃO', 'SIM'], dtype=object)"
            ]
          },
          "execution_count": 10,
          "metadata": {},
          "output_type": "execute_result"
        }
      ],
      "source": [
        "df.CAPITAL = df.CAPITAL.map({0: 'NÃO', 1: 'SIM'})\n",
        "df.CAPITAL.unique()"
      ]
    },
    {
      "cell_type": "code",
      "execution_count": 11,
      "metadata": {
        "colab": {
          "base_uri": "https://localhost:8080/"
        },
        "id": "-gEamNe1zcO3",
        "outputId": "352cb2ad-1023-4128-c5b2-deaa17ef904c"
      },
      "outputs": [
        {
          "data": {
            "text/plain": [
              "CITY                    0\n",
              "STATE                   0\n",
              "CAPITAL                 0\n",
              "IBGE_RES_POP            8\n",
              "AREA                    3\n",
              "RURAL_URBAN             3\n",
              "IDHM                    8\n",
              "LONG                    9\n",
              "LAT                     9\n",
              "ALT                     9\n",
              "ESTIMATED_POP           3\n",
              "GDP                     3\n",
              "TAXES                   3\n",
              "GDP_CAPITA              3\n",
              "COMP_TOT                3\n",
              "MUN_EXPENDIT         1492\n",
              "GVA_AGROPEC             3\n",
              "WHEELED_TRACTOR        11\n",
              "IBGE_PLANTED_AREA       3\n",
              "dtype: int64"
            ]
          },
          "execution_count": 11,
          "metadata": {},
          "output_type": "execute_result"
        }
      ],
      "source": [
        "df.isnull().sum()"
      ]
    },
    {
      "cell_type": "code",
      "execution_count": 12,
      "metadata": {
        "id": "sfj7uaNKz2w1"
      },
      "outputs": [],
      "source": [
        "df.MUN_EXPENDIT = df.MUN_EXPENDIT.replace(np.nan, 0)"
      ]
    },
    {
      "cell_type": "code",
      "execution_count": 13,
      "metadata": {
        "colab": {
          "base_uri": "https://localhost:8080/"
        },
        "id": "1PMG0HR40Hv5",
        "outputId": "ed4346c2-4069-4ee8-c19b-2eee444d327f"
      },
      "outputs": [
        {
          "data": {
            "text/plain": [
              "CITY                  0\n",
              "STATE                 0\n",
              "CAPITAL               0\n",
              "IBGE_RES_POP          8\n",
              "AREA                  3\n",
              "RURAL_URBAN           3\n",
              "IDHM                  8\n",
              "LONG                  9\n",
              "LAT                   9\n",
              "ALT                   9\n",
              "ESTIMATED_POP         3\n",
              "GDP                   3\n",
              "TAXES                 3\n",
              "GDP_CAPITA            3\n",
              "COMP_TOT              3\n",
              "MUN_EXPENDIT          0\n",
              "GVA_AGROPEC           3\n",
              "WHEELED_TRACTOR      11\n",
              "IBGE_PLANTED_AREA     3\n",
              "dtype: int64"
            ]
          },
          "execution_count": 13,
          "metadata": {},
          "output_type": "execute_result"
        }
      ],
      "source": [
        "df.isnull().sum()"
      ]
    },
    {
      "cell_type": "code",
      "execution_count": 14,
      "metadata": {
        "colab": {
          "base_uri": "https://localhost:8080/"
        },
        "id": "we2H7jdf0Jwu",
        "outputId": "59e5b062-ec2b-403c-c02a-c70fc66999e2"
      },
      "outputs": [
        {
          "data": {
            "text/plain": [
              "CITY                 0\n",
              "STATE                0\n",
              "CAPITAL              0\n",
              "IBGE_RES_POP         0\n",
              "AREA                 0\n",
              "RURAL_URBAN          0\n",
              "IDHM                 0\n",
              "LONG                 0\n",
              "LAT                  0\n",
              "ALT                  0\n",
              "ESTIMATED_POP        0\n",
              "GDP                  0\n",
              "TAXES                0\n",
              "GDP_CAPITA           0\n",
              "COMP_TOT             0\n",
              "MUN_EXPENDIT         0\n",
              "GVA_AGROPEC          0\n",
              "WHEELED_TRACTOR      0\n",
              "IBGE_PLANTED_AREA    0\n",
              "dtype: int64"
            ]
          },
          "execution_count": 14,
          "metadata": {},
          "output_type": "execute_result"
        }
      ],
      "source": [
        "df = df.dropna(how='any')\n",
        "df.isnull().sum()"
      ]
    },
    {
      "cell_type": "code",
      "execution_count": 15,
      "metadata": {
        "id": "f7aY5V9T0hgH"
      },
      "outputs": [],
      "source": [
        "mapa = {'IBGE_RES_POP': 'POPULATION_2010',\n",
        "        'ESTIMATED_POP': 'POPULATION_2018',\n",
        "        'IBGE_PLANTED_AREA': 'PLANTED_AREA'}"
      ]
    },
    {
      "cell_type": "code",
      "execution_count": 16,
      "metadata": {
        "id": "vPQXTsvB0PKW"
      },
      "outputs": [],
      "source": [
        "df = df.rename(columns=mapa)"
      ]
    },
    {
      "cell_type": "code",
      "execution_count": 17,
      "metadata": {
        "colab": {
          "base_uri": "https://localhost:8080/"
        },
        "id": "6-on1KRA0tQA",
        "outputId": "e960c6f9-1223-4986-92a4-8c6808e249a9"
      },
      "outputs": [
        {
          "data": {
            "text/plain": [
              "Index(['CITY', 'STATE', 'CAPITAL', 'POPULATION_2010', 'AREA', 'RURAL_URBAN',\n",
              "       'IDHM', 'LONG', 'LAT', 'ALT', 'POPULATION_2018', 'GDP', 'TAXES',\n",
              "       'GDP_CAPITA', 'COMP_TOT', 'MUN_EXPENDIT', 'GVA_AGROPEC',\n",
              "       'WHEELED_TRACTOR', 'PLANTED_AREA'],\n",
              "      dtype='object')"
            ]
          },
          "execution_count": 17,
          "metadata": {},
          "output_type": "execute_result"
        }
      ],
      "source": [
        "df.columns"
      ]
    },
    {
      "cell_type": "code",
      "execution_count": 18,
      "metadata": {
        "colab": {
          "base_uri": "https://localhost:8080/"
        },
        "id": "BJNblwWW0uc5",
        "outputId": "d0cd1f03-feed-4150-fc23-323048b5599d"
      },
      "outputs": [
        {
          "name": "stdout",
          "output_type": "stream",
          "text": [
            "<class 'pandas.core.frame.DataFrame'>\n",
            "Int64Index: 5554 entries, 0 to 5572\n",
            "Data columns (total 19 columns):\n",
            " #   Column           Non-Null Count  Dtype  \n",
            "---  ------           --------------  -----  \n",
            " 0   CITY             5554 non-null   object \n",
            " 1   STATE            5554 non-null   object \n",
            " 2   CAPITAL          5554 non-null   object \n",
            " 3   POPULATION_2010  5554 non-null   float64\n",
            " 4   AREA             5554 non-null   object \n",
            " 5   RURAL_URBAN      5554 non-null   object \n",
            " 6   IDHM             5554 non-null   object \n",
            " 7   LONG             5554 non-null   object \n",
            " 8   LAT              5554 non-null   object \n",
            " 9   ALT              5554 non-null   object \n",
            " 10  POPULATION_2018  5554 non-null   float64\n",
            " 11  GDP              5554 non-null   object \n",
            " 12  TAXES            5554 non-null   object \n",
            " 13  GDP_CAPITA       5554 non-null   object \n",
            " 14  COMP_TOT         5554 non-null   float64\n",
            " 15  MUN_EXPENDIT     5554 non-null   float64\n",
            " 16  GVA_AGROPEC      5554 non-null   object \n",
            " 17  WHEELED_TRACTOR  5554 non-null   float64\n",
            " 18  PLANTED_AREA     5554 non-null   float64\n",
            "dtypes: float64(6), object(13)\n",
            "memory usage: 867.8+ KB\n"
          ]
        }
      ],
      "source": [
        "df.info()"
      ]
    },
    {
      "cell_type": "code",
      "execution_count": 19,
      "metadata": {
        "colab": {
          "base_uri": "https://localhost:8080/"
        },
        "id": "yD5c1Ghk0xzg",
        "outputId": "b4d9d34e-7aa7-4a1e-b491-c2ed09254781"
      },
      "outputs": [
        {
          "data": {
            "text/plain": [
              "array(['147.26', '881.06', '1,045.13', ..., '319.06', '2,140.11',\n",
              "       '190.18'], dtype=object)"
            ]
          },
          "execution_count": 19,
          "metadata": {},
          "output_type": "execute_result"
        }
      ],
      "source": [
        "df.AREA.unique()"
      ]
    },
    {
      "cell_type": "code",
      "execution_count": 20,
      "metadata": {
        "colab": {
          "base_uri": "https://localhost:8080/"
        },
        "id": "RBQVOYMV014O",
        "outputId": "0123af70-e0f4-4549-c331-c2745e57d7b4"
      },
      "outputs": [
        {
          "data": {
            "text/plain": [
              "array(['147.26', '881.06', '1045.13', ..., '319.06', '2140.11', '190.18'],\n",
              "      dtype=object)"
            ]
          },
          "execution_count": 20,
          "metadata": {},
          "output_type": "execute_result"
        }
      ],
      "source": [
        "df.AREA = df.AREA.str.replace(',', '')\n",
        "df.AREA.unique()"
      ]
    },
    {
      "cell_type": "code",
      "execution_count": 21,
      "metadata": {
        "id": "i9qeo0vz06vr"
      },
      "outputs": [],
      "source": [
        "df.AREA = df.AREA.astype(float)\n",
        "df.IDHM = df.IDHM.astype(float)\n",
        "df.GDP = df.GDP.astype(float)\n",
        "df.GDP_CAPITA = df.GDP_CAPITA.astype(float)\n",
        "df.TAXES = df.TAXES.astype(float)\n",
        "df.LONG = df.LONG.astype(float)\n",
        "df.LAT = df.LAT.astype(float)\n",
        "df.LAT = df.LAT.astype(float)\n",
        "df.PLANTED_AREA = df.PLANTED_AREA.astype(float)\n",
        "df.GVA_AGROPEC = df.GVA_AGROPEC.astype(float)"
      ]
    },
    {
      "cell_type": "code",
      "execution_count": 22,
      "metadata": {
        "colab": {
          "base_uri": "https://localhost:8080/"
        },
        "id": "ALsrog2H1MuY",
        "outputId": "1dd2eaeb-aaef-4aa3-904e-2cebd1d888c3"
      },
      "outputs": [
        {
          "name": "stdout",
          "output_type": "stream",
          "text": [
            "<class 'pandas.core.frame.DataFrame'>\n",
            "Int64Index: 5554 entries, 0 to 5572\n",
            "Data columns (total 19 columns):\n",
            " #   Column           Non-Null Count  Dtype  \n",
            "---  ------           --------------  -----  \n",
            " 0   CITY             5554 non-null   object \n",
            " 1   STATE            5554 non-null   object \n",
            " 2   CAPITAL          5554 non-null   object \n",
            " 3   POPULATION_2010  5554 non-null   float64\n",
            " 4   AREA             5554 non-null   float64\n",
            " 5   RURAL_URBAN      5554 non-null   object \n",
            " 6   IDHM             5554 non-null   float64\n",
            " 7   LONG             5554 non-null   float64\n",
            " 8   LAT              5554 non-null   float64\n",
            " 9   ALT              5554 non-null   object \n",
            " 10  POPULATION_2018  5554 non-null   float64\n",
            " 11  GDP              5554 non-null   float64\n",
            " 12  TAXES            5554 non-null   float64\n",
            " 13  GDP_CAPITA       5554 non-null   float64\n",
            " 14  COMP_TOT         5554 non-null   float64\n",
            " 15  MUN_EXPENDIT     5554 non-null   float64\n",
            " 16  GVA_AGROPEC      5554 non-null   float64\n",
            " 17  WHEELED_TRACTOR  5554 non-null   float64\n",
            " 18  PLANTED_AREA     5554 non-null   float64\n",
            "dtypes: float64(14), object(5)\n",
            "memory usage: 867.8+ KB\n"
          ]
        }
      ],
      "source": [
        "df.info()"
      ]
    },
    {
      "cell_type": "code",
      "execution_count": 23,
      "metadata": {
        "colab": {
          "base_uri": "https://localhost:8080/"
        },
        "id": "9BzQ1pgT1dH1",
        "outputId": "cce765c5-7bab-4d41-ee79-efd3ab38d306"
      },
      "outputs": [
        {
          "data": {
            "text/plain": [
              "array(['GO', 'MG', 'PA', 'CE', 'BA', 'PR', 'SC', 'PE', 'TO', 'MA', 'RN',\n",
              "       'PI', 'RS', 'MT', 'AC', 'SP', 'ES', 'AL', 'PB', 'MS', 'RO', 'RR',\n",
              "       'AM', 'AP', 'SE', 'RJ', 'DF'], dtype=object)"
            ]
          },
          "execution_count": 23,
          "metadata": {},
          "output_type": "execute_result"
        }
      ],
      "source": [
        "df.STATE.unique()"
      ]
    },
    {
      "cell_type": "code",
      "execution_count": 24,
      "metadata": {
        "id": "7WbsaA9q1NM1"
      },
      "outputs": [],
      "source": [
        "NORTE = ['AC', 'AM', 'AP', 'PA', 'RO', 'RR', 'TO']\n",
        "NORDESTE = ['AL', 'BA', 'CE', 'MA', 'PB', 'PE', 'PI', 'RN', 'SE']\n",
        "CENTRO_OESTE = ['DF', 'GO', 'MT', 'MS']\n",
        "SUDESTE = ['ES', 'MG', 'SP', 'RJ']\n",
        "SUL = ['PR', 'SC', 'RS']"
      ]
    },
    {
      "cell_type": "code",
      "execution_count": 25,
      "metadata": {
        "id": "Svql3pjg1RpZ"
      },
      "outputs": [],
      "source": [
        "def estado_para_região(n):\n",
        "  if n in NORTE:\n",
        "    return 'NORTE'\n",
        "  elif n in NORDESTE:\n",
        "    return 'NORDESTE'\n",
        "  elif n in CENTRO_OESTE:\n",
        "    return 'CENTRO OESTE'\n",
        "  elif n in SUDESTE:\n",
        "    return 'SUDESTE'\n",
        "  elif n in SUL:\n",
        "    return 'SUL'\n",
        "  else:\n",
        "    return 'ERROR'"
      ]
    },
    {
      "cell_type": "code",
      "execution_count": 26,
      "metadata": {
        "colab": {
          "base_uri": "https://localhost:8080/"
        },
        "id": "xWOhQHLY1yKR",
        "outputId": "5491ef1f-699b-4553-efe0-c6967e23a949"
      },
      "outputs": [
        {
          "data": {
            "text/plain": [
              "array(['CENTRO OESTE', 'SUDESTE', 'NORTE', 'NORDESTE', 'SUL'],\n",
              "      dtype=object)"
            ]
          },
          "execution_count": 26,
          "metadata": {},
          "output_type": "execute_result"
        }
      ],
      "source": [
        "df['REGION'] = df.STATE.apply(estado_para_região)\n",
        "df.REGION.unique()"
      ]
    },
    {
      "cell_type": "code",
      "execution_count": 27,
      "metadata": {
        "colab": {
          "base_uri": "https://localhost:8080/",
          "height": 539
        },
        "id": "Mj8uxlac11dx",
        "outputId": "46bd1007-866f-4954-bd4d-5d886302f6fe"
      },
      "outputs": [
        {
          "data": {
            "application/vnd.google.colaboratory.intrinsic+json": {
              "summary": "{\n  \"name\": \"df\",\n  \"rows\": 5554,\n  \"fields\": [\n    {\n      \"column\": \"CITY\",\n      \"properties\": {\n        \"dtype\": \"string\",\n        \"num_unique_values\": 5285,\n        \"samples\": [\n          \"Lagoa Salgada\",\n          \"Nova Boa Vista\",\n          \"Ara\\u00e7oiaba Da Serra\"\n        ],\n        \"semantic_type\": \"\",\n        \"description\": \"\"\n      }\n    },\n    {\n      \"column\": \"STATE\",\n      \"properties\": {\n        \"dtype\": \"category\",\n        \"num_unique_values\": 27,\n        \"samples\": [\n          \"TO\",\n          \"MT\",\n          \"MA\"\n        ],\n        \"semantic_type\": \"\",\n        \"description\": \"\"\n      }\n    },\n    {\n      \"column\": \"CAPITAL\",\n      \"properties\": {\n        \"dtype\": \"category\",\n        \"num_unique_values\": 2,\n        \"samples\": [\n          \"SIM\",\n          \"N\\u00c3O\"\n        ],\n        \"semantic_type\": \"\",\n        \"description\": \"\"\n      }\n    },\n    {\n      \"column\": \"POPULATION_2010\",\n      \"properties\": {\n        \"dtype\": \"number\",\n        \"std\": 203310.24773138913,\n        \"min\": 805.0,\n        \"max\": 11253503.0,\n        \"num_unique_values\": 5034,\n        \"samples\": [\n          4134.0,\n          9238.0\n        ],\n        \"semantic_type\": \"\",\n        \"description\": \"\"\n      }\n    },\n    {\n      \"column\": \"AREA\",\n      \"properties\": {\n        \"dtype\": \"number\",\n        \"std\": 5566.538785678612,\n        \"min\": 3.57,\n        \"max\": 159533.33,\n        \"num_unique_values\": 5429,\n        \"samples\": [\n          235.39,\n          2462.15\n        ],\n        \"semantic_type\": \"\",\n        \"description\": \"\"\n      }\n    },\n    {\n      \"column\": \"RURAL_URBAN\",\n      \"properties\": {\n        \"dtype\": \"category\",\n        \"num_unique_values\": 5,\n        \"samples\": [\n          \"Rural Adjacente\",\n          \"Intermedi\\u00e1rio Remoto\"\n        ],\n        \"semantic_type\": \"\",\n        \"description\": \"\"\n      }\n    },\n    {\n      \"column\": \"IDHM\",\n      \"properties\": {\n        \"dtype\": \"number\",\n        \"std\": 0.07197001804056997,\n        \"min\": 0.418,\n        \"max\": 0.862,\n        \"num_unique_values\": 271,\n        \"samples\": [\n          0.588,\n          0.581\n        ],\n        \"semantic_type\": \"\",\n        \"description\": \"\"\n      }\n    },\n    {\n      \"column\": \"LONG\",\n      \"properties\": {\n        \"dtype\": \"number\",\n        \"std\": 6.402935447621791,\n        \"min\": -72.91650103,\n        \"max\": -32.43518633,\n        \"num_unique_values\": 5554,\n        \"samples\": [\n          -42.18537737,\n          -36.88623966\n        ],\n        \"semantic_type\": \"\",\n        \"description\": \"\"\n      }\n    },\n    {\n      \"column\": \"LAT\",\n      \"properties\": {\n        \"dtype\": \"number\",\n        \"std\": 8.280352013176804,\n        \"min\": -33.68756687,\n        \"max\": 4.585440388,\n        \"num_unique_values\": 5554,\n        \"samples\": [\n          -5.862298634,\n          -10.34648645\n        ],\n        \"semantic_type\": \"\",\n        \"description\": \"\"\n      }\n    },\n    {\n      \"column\": \"ALT\",\n      \"properties\": {\n        \"dtype\": \"string\",\n        \"num_unique_values\": 5360,\n        \"samples\": [\n          \"640.39\",\n          \"417.43\"\n        ],\n        \"semantic_type\": \"\",\n        \"description\": \"\"\n      }\n    },\n    {\n      \"column\": \"POPULATION_2018\",\n      \"properties\": {\n        \"dtype\": \"number\",\n        \"std\": 220280.06892586977,\n        \"min\": 786.0,\n        \"max\": 12176866.0,\n        \"num_unique_values\": 5082,\n        \"samples\": [\n          2231.0,\n          1940.0\n        ],\n        \"semantic_type\": \"\",\n        \"description\": \"\"\n      }\n    },\n    {\n      \"column\": \"GDP\",\n      \"properties\": {\n        \"dtype\": \"number\",\n        \"std\": 11235615.699098777,\n        \"min\": 14.96,\n        \"max\": 687035889.61,\n        \"num_unique_values\": 5540,\n        \"samples\": [\n          68985.63,\n          315002.98\n        ],\n        \"semantic_type\": \"\",\n        \"description\": \"\"\n      }\n    },\n    {\n      \"column\": \"TAXES\",\n      \"properties\": {\n        \"dtype\": \"number\",\n        \"std\": 1710910.0241459499,\n        \"min\": -14158.51,\n        \"max\": 117125386.74,\n        \"num_unique_values\": 5341,\n        \"samples\": [\n          17142.47,\n          2754.27\n        ],\n        \"semantic_type\": \"\",\n        \"description\": \"\"\n      }\n    },\n    {\n      \"column\": \"GDP_CAPITA\",\n      \"properties\": {\n        \"dtype\": \"number\",\n        \"std\": 20218.18178077166,\n        \"min\": 3190.57,\n        \"max\": 314637.69,\n        \"num_unique_values\": 5551,\n        \"samples\": [\n          20122.06,\n          11662.92\n        ],\n        \"semantic_type\": \"\",\n        \"description\": \"\"\n      }\n    },\n    {\n      \"column\": \"COMP_TOT\",\n      \"properties\": {\n        \"dtype\": \"number\",\n        \"std\": 8345.661128878437,\n        \"min\": 6.0,\n        \"max\": 530446.0,\n        \"num_unique_values\": 1456,\n        \"samples\": [\n          296.0,\n          1588.0\n        ],\n        \"semantic_type\": \"\",\n        \"description\": \"\"\n      }\n    },\n    {\n      \"column\": \"MUN_EXPENDIT\",\n      \"properties\": {\n        \"dtype\": \"number\",\n        \"std\": 742523052.4619094,\n        \"min\": 0.0,\n        \"max\": 45772497944.0,\n        \"num_unique_values\": 4059,\n        \"samples\": [\n          59948108.0,\n          16932465.0\n        ],\n        \"semantic_type\": \"\",\n        \"description\": \"\"\n      }\n    },\n    {\n      \"column\": \"GVA_AGROPEC\",\n      \"properties\": {\n        \"dtype\": \"number\",\n        \"std\": 88665.61276313916,\n        \"min\": 0.0,\n        \"max\": 1402282.11,\n        \"num_unique_values\": 5486,\n        \"samples\": [\n          109787.99,\n          14279.65\n        ],\n        \"semantic_type\": \"\",\n        \"description\": \"\"\n      }\n    },\n    {\n      \"column\": \"WHEELED_TRACTOR\",\n      \"properties\": {\n        \"dtype\": \"number\",\n        \"std\": 55.41979177415869,\n        \"min\": 0.0,\n        \"max\": 3236.0,\n        \"num_unique_values\": 130,\n        \"samples\": [\n          250.0,\n          29.0\n        ],\n        \"semantic_type\": \"\",\n        \"description\": \"\"\n      }\n    },\n    {\n      \"column\": \"PLANTED_AREA\",\n      \"properties\": {\n        \"dtype\": \"number\",\n        \"std\": 44078.698061237395,\n        \"min\": 0.0,\n        \"max\": 1205669.0,\n        \"num_unique_values\": 4330,\n        \"samples\": [\n          354.0,\n          364.0\n        ],\n        \"semantic_type\": \"\",\n        \"description\": \"\"\n      }\n    },\n    {\n      \"column\": \"REGION\",\n      \"properties\": {\n        \"dtype\": \"category\",\n        \"num_unique_values\": 5,\n        \"samples\": [\n          \"SUDESTE\",\n          \"SUL\"\n        ],\n        \"semantic_type\": \"\",\n        \"description\": \"\"\n      }\n    }\n  ]\n}",
              "type": "dataframe",
              "variable_name": "df"
            },
            "text/html": [
              "\n",
              "  <div id=\"df-01a1abd0-3c41-43df-8f5a-f7774539de05\" class=\"colab-df-container\">\n",
              "    <div>\n",
              "<style scoped>\n",
              "    .dataframe tbody tr th:only-of-type {\n",
              "        vertical-align: middle;\n",
              "    }\n",
              "\n",
              "    .dataframe tbody tr th {\n",
              "        vertical-align: top;\n",
              "    }\n",
              "\n",
              "    .dataframe thead th {\n",
              "        text-align: right;\n",
              "    }\n",
              "</style>\n",
              "<table border=\"1\" class=\"dataframe\">\n",
              "  <thead>\n",
              "    <tr style=\"text-align: right;\">\n",
              "      <th></th>\n",
              "      <th>CITY</th>\n",
              "      <th>STATE</th>\n",
              "      <th>CAPITAL</th>\n",
              "      <th>POPULATION_2010</th>\n",
              "      <th>AREA</th>\n",
              "      <th>RURAL_URBAN</th>\n",
              "      <th>IDHM</th>\n",
              "      <th>LONG</th>\n",
              "      <th>LAT</th>\n",
              "      <th>ALT</th>\n",
              "      <th>POPULATION_2018</th>\n",
              "      <th>GDP</th>\n",
              "      <th>TAXES</th>\n",
              "      <th>GDP_CAPITA</th>\n",
              "      <th>COMP_TOT</th>\n",
              "      <th>MUN_EXPENDIT</th>\n",
              "      <th>GVA_AGROPEC</th>\n",
              "      <th>WHEELED_TRACTOR</th>\n",
              "      <th>PLANTED_AREA</th>\n",
              "      <th>REGION</th>\n",
              "    </tr>\n",
              "  </thead>\n",
              "  <tbody>\n",
              "    <tr>\n",
              "      <th>0</th>\n",
              "      <td>Abadia De Goiás</td>\n",
              "      <td>GO</td>\n",
              "      <td>NÃO</td>\n",
              "      <td>6876.0</td>\n",
              "      <td>147.26</td>\n",
              "      <td>Urbano</td>\n",
              "      <td>0.708</td>\n",
              "      <td>-49.440548</td>\n",
              "      <td>-16.758812</td>\n",
              "      <td>893.6</td>\n",
              "      <td>8583.0</td>\n",
              "      <td>166.41</td>\n",
              "      <td>20554.20</td>\n",
              "      <td>20664.57</td>\n",
              "      <td>284.0</td>\n",
              "      <td>28227691.0</td>\n",
              "      <td>6.20</td>\n",
              "      <td>0.0</td>\n",
              "      <td>319.0</td>\n",
              "      <td>CENTRO OESTE</td>\n",
              "    </tr>\n",
              "    <tr>\n",
              "      <th>1</th>\n",
              "      <td>Abadia Dos Dourados</td>\n",
              "      <td>MG</td>\n",
              "      <td>NÃO</td>\n",
              "      <td>6704.0</td>\n",
              "      <td>881.06</td>\n",
              "      <td>Rural Adjacente</td>\n",
              "      <td>0.690</td>\n",
              "      <td>-47.396832</td>\n",
              "      <td>-18.487565</td>\n",
              "      <td>753.12</td>\n",
              "      <td>6972.0</td>\n",
              "      <td>180.09</td>\n",
              "      <td>12873.50</td>\n",
              "      <td>25591.70</td>\n",
              "      <td>476.0</td>\n",
              "      <td>17909274.0</td>\n",
              "      <td>50524.57</td>\n",
              "      <td>0.0</td>\n",
              "      <td>4479.0</td>\n",
              "      <td>SUDESTE</td>\n",
              "    </tr>\n",
              "    <tr>\n",
              "      <th>2</th>\n",
              "      <td>Abadiânia</td>\n",
              "      <td>GO</td>\n",
              "      <td>NÃO</td>\n",
              "      <td>15757.0</td>\n",
              "      <td>1045.13</td>\n",
              "      <td>Rural Adjacente</td>\n",
              "      <td>0.690</td>\n",
              "      <td>-48.718812</td>\n",
              "      <td>-16.182672</td>\n",
              "      <td>1017.55</td>\n",
              "      <td>19614.0</td>\n",
              "      <td>287984.49</td>\n",
              "      <td>26822.58</td>\n",
              "      <td>15628.40</td>\n",
              "      <td>288.0</td>\n",
              "      <td>37513019.0</td>\n",
              "      <td>42.84</td>\n",
              "      <td>0.0</td>\n",
              "      <td>10307.0</td>\n",
              "      <td>CENTRO OESTE</td>\n",
              "    </tr>\n",
              "    <tr>\n",
              "      <th>3</th>\n",
              "      <td>Abaeté</td>\n",
              "      <td>MG</td>\n",
              "      <td>NÃO</td>\n",
              "      <td>22690.0</td>\n",
              "      <td>1817.07</td>\n",
              "      <td>Urbano</td>\n",
              "      <td>0.698</td>\n",
              "      <td>-45.446191</td>\n",
              "      <td>-19.155848</td>\n",
              "      <td>644.74</td>\n",
              "      <td>23223.0</td>\n",
              "      <td>430235.36</td>\n",
              "      <td>26994.09</td>\n",
              "      <td>18250.42</td>\n",
              "      <td>621.0</td>\n",
              "      <td>0.0</td>\n",
              "      <td>113824.60</td>\n",
              "      <td>0.0</td>\n",
              "      <td>1862.0</td>\n",
              "      <td>SUDESTE</td>\n",
              "    </tr>\n",
              "    <tr>\n",
              "      <th>4</th>\n",
              "      <td>Abaetetuba</td>\n",
              "      <td>PA</td>\n",
              "      <td>NÃO</td>\n",
              "      <td>141100.0</td>\n",
              "      <td>1610.65</td>\n",
              "      <td>Urbano</td>\n",
              "      <td>0.628</td>\n",
              "      <td>-48.884404</td>\n",
              "      <td>-1.723470</td>\n",
              "      <td>10.12</td>\n",
              "      <td>156292.0</td>\n",
              "      <td>1249255.29</td>\n",
              "      <td>95180.48</td>\n",
              "      <td>8222.36</td>\n",
              "      <td>931.0</td>\n",
              "      <td>0.0</td>\n",
              "      <td>140463.72</td>\n",
              "      <td>0.0</td>\n",
              "      <td>25200.0</td>\n",
              "      <td>NORTE</td>\n",
              "    </tr>\n",
              "    <tr>\n",
              "      <th>5</th>\n",
              "      <td>Abaiara</td>\n",
              "      <td>CE</td>\n",
              "      <td>NÃO</td>\n",
              "      <td>10496.0</td>\n",
              "      <td>180.08</td>\n",
              "      <td>Rural Adjacente</td>\n",
              "      <td>0.628</td>\n",
              "      <td>-39.047547</td>\n",
              "      <td>-7.356977</td>\n",
              "      <td>403.11</td>\n",
              "      <td>11663.0</td>\n",
              "      <td>73151.46</td>\n",
              "      <td>4042.79</td>\n",
              "      <td>6370.41</td>\n",
              "      <td>86.0</td>\n",
              "      <td>0.0</td>\n",
              "      <td>4435.16</td>\n",
              "      <td>0.0</td>\n",
              "      <td>2598.0</td>\n",
              "      <td>NORDESTE</td>\n",
              "    </tr>\n",
              "    <tr>\n",
              "      <th>6</th>\n",
              "      <td>Abaíra</td>\n",
              "      <td>BA</td>\n",
              "      <td>NÃO</td>\n",
              "      <td>8316.0</td>\n",
              "      <td>538.68</td>\n",
              "      <td>Rural Remoto</td>\n",
              "      <td>0.603</td>\n",
              "      <td>-41.661608</td>\n",
              "      <td>-13.253532</td>\n",
              "      <td>674.22</td>\n",
              "      <td>8767.0</td>\n",
              "      <td>64324.59</td>\n",
              "      <td>2019.77</td>\n",
              "      <td>6982.70</td>\n",
              "      <td>191.0</td>\n",
              "      <td>0.0</td>\n",
              "      <td>12.41</td>\n",
              "      <td>0.0</td>\n",
              "      <td>895.0</td>\n",
              "      <td>NORDESTE</td>\n",
              "    </tr>\n",
              "    <tr>\n",
              "      <th>7</th>\n",
              "      <td>Abaré</td>\n",
              "      <td>BA</td>\n",
              "      <td>NÃO</td>\n",
              "      <td>17064.0</td>\n",
              "      <td>1604.92</td>\n",
              "      <td>Rural Remoto</td>\n",
              "      <td>0.575</td>\n",
              "      <td>-39.116588</td>\n",
              "      <td>-8.723418</td>\n",
              "      <td>316.38</td>\n",
              "      <td>19814.0</td>\n",
              "      <td>124754.26</td>\n",
              "      <td>6.21</td>\n",
              "      <td>6256.80</td>\n",
              "      <td>87.0</td>\n",
              "      <td>0.0</td>\n",
              "      <td>9176.40</td>\n",
              "      <td>0.0</td>\n",
              "      <td>2058.0</td>\n",
              "      <td>NORDESTE</td>\n",
              "    </tr>\n",
              "    <tr>\n",
              "      <th>8</th>\n",
              "      <td>Abatiá</td>\n",
              "      <td>PR</td>\n",
              "      <td>NÃO</td>\n",
              "      <td>7764.0</td>\n",
              "      <td>228.72</td>\n",
              "      <td>Rural Adjacente</td>\n",
              "      <td>0.687</td>\n",
              "      <td>-50.312527</td>\n",
              "      <td>-23.300494</td>\n",
              "      <td>579.3</td>\n",
              "      <td>7507.0</td>\n",
              "      <td>165048.21</td>\n",
              "      <td>5.77</td>\n",
              "      <td>21173.60</td>\n",
              "      <td>285.0</td>\n",
              "      <td>0.0</td>\n",
              "      <td>73340.52</td>\n",
              "      <td>0.0</td>\n",
              "      <td>1197.0</td>\n",
              "      <td>SUL</td>\n",
              "    </tr>\n",
              "    <tr>\n",
              "      <th>9</th>\n",
              "      <td>Abdon Batista</td>\n",
              "      <td>SC</td>\n",
              "      <td>NÃO</td>\n",
              "      <td>2653.0</td>\n",
              "      <td>237.16</td>\n",
              "      <td>Rural Adjacente</td>\n",
              "      <td>0.690</td>\n",
              "      <td>-51.025272</td>\n",
              "      <td>-27.608987</td>\n",
              "      <td>720.98</td>\n",
              "      <td>2577.0</td>\n",
              "      <td>64742.01</td>\n",
              "      <td>2312.65</td>\n",
              "      <td>24739.02</td>\n",
              "      <td>69.0</td>\n",
              "      <td>19506956.0</td>\n",
              "      <td>24996.75</td>\n",
              "      <td>2.0</td>\n",
              "      <td>5502.0</td>\n",
              "      <td>SUL</td>\n",
              "    </tr>\n",
              "  </tbody>\n",
              "</table>\n",
              "</div>\n",
              "    <div class=\"colab-df-buttons\">\n",
              "\n",
              "  <div class=\"colab-df-container\">\n",
              "    <button class=\"colab-df-convert\" onclick=\"convertToInteractive('df-01a1abd0-3c41-43df-8f5a-f7774539de05')\"\n",
              "            title=\"Convert this dataframe to an interactive table.\"\n",
              "            style=\"display:none;\">\n",
              "\n",
              "  <svg xmlns=\"http://www.w3.org/2000/svg\" height=\"24px\" viewBox=\"0 -960 960 960\">\n",
              "    <path d=\"M120-120v-720h720v720H120Zm60-500h600v-160H180v160Zm220 220h160v-160H400v160Zm0 220h160v-160H400v160ZM180-400h160v-160H180v160Zm440 0h160v-160H620v160ZM180-180h160v-160H180v160Zm440 0h160v-160H620v160Z\"/>\n",
              "  </svg>\n",
              "    </button>\n",
              "\n",
              "  <style>\n",
              "    .colab-df-container {\n",
              "      display:flex;\n",
              "      gap: 12px;\n",
              "    }\n",
              "\n",
              "    .colab-df-convert {\n",
              "      background-color: #E8F0FE;\n",
              "      border: none;\n",
              "      border-radius: 50%;\n",
              "      cursor: pointer;\n",
              "      display: none;\n",
              "      fill: #1967D2;\n",
              "      height: 32px;\n",
              "      padding: 0 0 0 0;\n",
              "      width: 32px;\n",
              "    }\n",
              "\n",
              "    .colab-df-convert:hover {\n",
              "      background-color: #E2EBFA;\n",
              "      box-shadow: 0px 1px 2px rgba(60, 64, 67, 0.3), 0px 1px 3px 1px rgba(60, 64, 67, 0.15);\n",
              "      fill: #174EA6;\n",
              "    }\n",
              "\n",
              "    .colab-df-buttons div {\n",
              "      margin-bottom: 4px;\n",
              "    }\n",
              "\n",
              "    [theme=dark] .colab-df-convert {\n",
              "      background-color: #3B4455;\n",
              "      fill: #D2E3FC;\n",
              "    }\n",
              "\n",
              "    [theme=dark] .colab-df-convert:hover {\n",
              "      background-color: #434B5C;\n",
              "      box-shadow: 0px 1px 3px 1px rgba(0, 0, 0, 0.15);\n",
              "      filter: drop-shadow(0px 1px 2px rgba(0, 0, 0, 0.3));\n",
              "      fill: #FFFFFF;\n",
              "    }\n",
              "  </style>\n",
              "\n",
              "    <script>\n",
              "      const buttonEl =\n",
              "        document.querySelector('#df-01a1abd0-3c41-43df-8f5a-f7774539de05 button.colab-df-convert');\n",
              "      buttonEl.style.display =\n",
              "        google.colab.kernel.accessAllowed ? 'block' : 'none';\n",
              "\n",
              "      async function convertToInteractive(key) {\n",
              "        const element = document.querySelector('#df-01a1abd0-3c41-43df-8f5a-f7774539de05');\n",
              "        const dataTable =\n",
              "          await google.colab.kernel.invokeFunction('convertToInteractive',\n",
              "                                                    [key], {});\n",
              "        if (!dataTable) return;\n",
              "\n",
              "        const docLinkHtml = 'Like what you see? Visit the ' +\n",
              "          '<a target=\"_blank\" href=https://colab.research.google.com/notebooks/data_table.ipynb>data table notebook</a>'\n",
              "          + ' to learn more about interactive tables.';\n",
              "        element.innerHTML = '';\n",
              "        dataTable['output_type'] = 'display_data';\n",
              "        await google.colab.output.renderOutput(dataTable, element);\n",
              "        const docLink = document.createElement('div');\n",
              "        docLink.innerHTML = docLinkHtml;\n",
              "        element.appendChild(docLink);\n",
              "      }\n",
              "    </script>\n",
              "  </div>\n",
              "\n",
              "\n",
              "<div id=\"df-550ba748-3cb0-429b-9688-466fa1372cc0\">\n",
              "  <button class=\"colab-df-quickchart\" onclick=\"quickchart('df-550ba748-3cb0-429b-9688-466fa1372cc0')\"\n",
              "            title=\"Suggest charts\"\n",
              "            style=\"display:none;\">\n",
              "\n",
              "<svg xmlns=\"http://www.w3.org/2000/svg\" height=\"24px\"viewBox=\"0 0 24 24\"\n",
              "     width=\"24px\">\n",
              "    <g>\n",
              "        <path d=\"M19 3H5c-1.1 0-2 .9-2 2v14c0 1.1.9 2 2 2h14c1.1 0 2-.9 2-2V5c0-1.1-.9-2-2-2zM9 17H7v-7h2v7zm4 0h-2V7h2v10zm4 0h-2v-4h2v4z\"/>\n",
              "    </g>\n",
              "</svg>\n",
              "  </button>\n",
              "\n",
              "<style>\n",
              "  .colab-df-quickchart {\n",
              "      --bg-color: #E8F0FE;\n",
              "      --fill-color: #1967D2;\n",
              "      --hover-bg-color: #E2EBFA;\n",
              "      --hover-fill-color: #174EA6;\n",
              "      --disabled-fill-color: #AAA;\n",
              "      --disabled-bg-color: #DDD;\n",
              "  }\n",
              "\n",
              "  [theme=dark] .colab-df-quickchart {\n",
              "      --bg-color: #3B4455;\n",
              "      --fill-color: #D2E3FC;\n",
              "      --hover-bg-color: #434B5C;\n",
              "      --hover-fill-color: #FFFFFF;\n",
              "      --disabled-bg-color: #3B4455;\n",
              "      --disabled-fill-color: #666;\n",
              "  }\n",
              "\n",
              "  .colab-df-quickchart {\n",
              "    background-color: var(--bg-color);\n",
              "    border: none;\n",
              "    border-radius: 50%;\n",
              "    cursor: pointer;\n",
              "    display: none;\n",
              "    fill: var(--fill-color);\n",
              "    height: 32px;\n",
              "    padding: 0;\n",
              "    width: 32px;\n",
              "  }\n",
              "\n",
              "  .colab-df-quickchart:hover {\n",
              "    background-color: var(--hover-bg-color);\n",
              "    box-shadow: 0 1px 2px rgba(60, 64, 67, 0.3), 0 1px 3px 1px rgba(60, 64, 67, 0.15);\n",
              "    fill: var(--button-hover-fill-color);\n",
              "  }\n",
              "\n",
              "  .colab-df-quickchart-complete:disabled,\n",
              "  .colab-df-quickchart-complete:disabled:hover {\n",
              "    background-color: var(--disabled-bg-color);\n",
              "    fill: var(--disabled-fill-color);\n",
              "    box-shadow: none;\n",
              "  }\n",
              "\n",
              "  .colab-df-spinner {\n",
              "    border: 2px solid var(--fill-color);\n",
              "    border-color: transparent;\n",
              "    border-bottom-color: var(--fill-color);\n",
              "    animation:\n",
              "      spin 1s steps(1) infinite;\n",
              "  }\n",
              "\n",
              "  @keyframes spin {\n",
              "    0% {\n",
              "      border-color: transparent;\n",
              "      border-bottom-color: var(--fill-color);\n",
              "      border-left-color: var(--fill-color);\n",
              "    }\n",
              "    20% {\n",
              "      border-color: transparent;\n",
              "      border-left-color: var(--fill-color);\n",
              "      border-top-color: var(--fill-color);\n",
              "    }\n",
              "    30% {\n",
              "      border-color: transparent;\n",
              "      border-left-color: var(--fill-color);\n",
              "      border-top-color: var(--fill-color);\n",
              "      border-right-color: var(--fill-color);\n",
              "    }\n",
              "    40% {\n",
              "      border-color: transparent;\n",
              "      border-right-color: var(--fill-color);\n",
              "      border-top-color: var(--fill-color);\n",
              "    }\n",
              "    60% {\n",
              "      border-color: transparent;\n",
              "      border-right-color: var(--fill-color);\n",
              "    }\n",
              "    80% {\n",
              "      border-color: transparent;\n",
              "      border-right-color: var(--fill-color);\n",
              "      border-bottom-color: var(--fill-color);\n",
              "    }\n",
              "    90% {\n",
              "      border-color: transparent;\n",
              "      border-bottom-color: var(--fill-color);\n",
              "    }\n",
              "  }\n",
              "</style>\n",
              "\n",
              "  <script>\n",
              "    async function quickchart(key) {\n",
              "      const quickchartButtonEl =\n",
              "        document.querySelector('#' + key + ' button');\n",
              "      quickchartButtonEl.disabled = true;  // To prevent multiple clicks.\n",
              "      quickchartButtonEl.classList.add('colab-df-spinner');\n",
              "      try {\n",
              "        const charts = await google.colab.kernel.invokeFunction(\n",
              "            'suggestCharts', [key], {});\n",
              "      } catch (error) {\n",
              "        console.error('Error during call to suggestCharts:', error);\n",
              "      }\n",
              "      quickchartButtonEl.classList.remove('colab-df-spinner');\n",
              "      quickchartButtonEl.classList.add('colab-df-quickchart-complete');\n",
              "    }\n",
              "    (() => {\n",
              "      let quickchartButtonEl =\n",
              "        document.querySelector('#df-550ba748-3cb0-429b-9688-466fa1372cc0 button');\n",
              "      quickchartButtonEl.style.display =\n",
              "        google.colab.kernel.accessAllowed ? 'block' : 'none';\n",
              "    })();\n",
              "  </script>\n",
              "</div>\n",
              "    </div>\n",
              "  </div>\n"
            ],
            "text/plain": [
              "                  CITY STATE CAPITAL  POPULATION_2010     AREA  \\\n",
              "0      Abadia De Goiás    GO     NÃO           6876.0   147.26   \n",
              "1  Abadia Dos Dourados    MG     NÃO           6704.0   881.06   \n",
              "2            Abadiânia    GO     NÃO          15757.0  1045.13   \n",
              "3               Abaeté    MG     NÃO          22690.0  1817.07   \n",
              "4           Abaetetuba    PA     NÃO         141100.0  1610.65   \n",
              "5              Abaiara    CE     NÃO          10496.0   180.08   \n",
              "6               Abaíra    BA     NÃO           8316.0   538.68   \n",
              "7                Abaré    BA     NÃO          17064.0  1604.92   \n",
              "8               Abatiá    PR     NÃO           7764.0   228.72   \n",
              "9        Abdon Batista    SC     NÃO           2653.0   237.16   \n",
              "\n",
              "       RURAL_URBAN   IDHM       LONG        LAT      ALT  POPULATION_2018  \\\n",
              "0           Urbano  0.708 -49.440548 -16.758812    893.6           8583.0   \n",
              "1  Rural Adjacente  0.690 -47.396832 -18.487565   753.12           6972.0   \n",
              "2  Rural Adjacente  0.690 -48.718812 -16.182672  1017.55          19614.0   \n",
              "3           Urbano  0.698 -45.446191 -19.155848   644.74          23223.0   \n",
              "4           Urbano  0.628 -48.884404  -1.723470    10.12         156292.0   \n",
              "5  Rural Adjacente  0.628 -39.047547  -7.356977   403.11          11663.0   \n",
              "6     Rural Remoto  0.603 -41.661608 -13.253532   674.22           8767.0   \n",
              "7     Rural Remoto  0.575 -39.116588  -8.723418   316.38          19814.0   \n",
              "8  Rural Adjacente  0.687 -50.312527 -23.300494    579.3           7507.0   \n",
              "9  Rural Adjacente  0.690 -51.025272 -27.608987   720.98           2577.0   \n",
              "\n",
              "          GDP     TAXES  GDP_CAPITA  COMP_TOT  MUN_EXPENDIT  GVA_AGROPEC  \\\n",
              "0      166.41  20554.20    20664.57     284.0    28227691.0         6.20   \n",
              "1      180.09  12873.50    25591.70     476.0    17909274.0     50524.57   \n",
              "2   287984.49  26822.58    15628.40     288.0    37513019.0        42.84   \n",
              "3   430235.36  26994.09    18250.42     621.0           0.0    113824.60   \n",
              "4  1249255.29  95180.48     8222.36     931.0           0.0    140463.72   \n",
              "5    73151.46   4042.79     6370.41      86.0           0.0      4435.16   \n",
              "6    64324.59   2019.77     6982.70     191.0           0.0        12.41   \n",
              "7   124754.26      6.21     6256.80      87.0           0.0      9176.40   \n",
              "8   165048.21      5.77    21173.60     285.0           0.0     73340.52   \n",
              "9    64742.01   2312.65    24739.02      69.0    19506956.0     24996.75   \n",
              "\n",
              "   WHEELED_TRACTOR  PLANTED_AREA        REGION  \n",
              "0              0.0         319.0  CENTRO OESTE  \n",
              "1              0.0        4479.0       SUDESTE  \n",
              "2              0.0       10307.0  CENTRO OESTE  \n",
              "3              0.0        1862.0       SUDESTE  \n",
              "4              0.0       25200.0         NORTE  \n",
              "5              0.0        2598.0      NORDESTE  \n",
              "6              0.0         895.0      NORDESTE  \n",
              "7              0.0        2058.0      NORDESTE  \n",
              "8              0.0        1197.0           SUL  \n",
              "9              2.0        5502.0           SUL  "
            ]
          },
          "execution_count": 27,
          "metadata": {},
          "output_type": "execute_result"
        }
      ],
      "source": [
        "df.head(10)"
      ]
    },
    {
      "cell_type": "markdown",
      "metadata": {
        "id": "7l2rut6A262n"
      },
      "source": [
        "# 1. Escolhendo o plot apropriado para visualizar a proporção entre a participação de cada valor único da coluna RURAL_URBAN para composição do valor total da coluna AREA\n",
        "---"
      ]
    },
    {
      "cell_type": "code",
      "execution_count": 28,
      "metadata": {
        "colab": {
          "base_uri": "https://localhost:8080/"
        },
        "id": "QL9gCR6r4d62",
        "outputId": "6b46e9ac-52dd-4303-e534-8ca048363b0d"
      },
      "outputs": [
        {
          "data": {
            "text/plain": [
              "array(['Urbano', 'Rural Adjacente', 'Rural Remoto',\n",
              "       'Intermediário Adjacente', 'Intermediário Remoto'], dtype=object)"
            ]
          },
          "execution_count": 28,
          "metadata": {},
          "output_type": "execute_result"
        }
      ],
      "source": [
        "df.RURAL_URBAN.unique()"
      ]
    },
    {
      "cell_type": "code",
      "execution_count": 29,
      "metadata": {
        "colab": {
          "base_uri": "https://localhost:8080/"
        },
        "id": "fwValLTH4eZB",
        "outputId": "42007946-1d6b-4200-caf9-16d1d41bf028"
      },
      "outputs": [
        {
          "data": {
            "text/plain": [
              "array([ 147.26,  881.06, 1045.13, ...,  319.06, 2140.11,  190.18])"
            ]
          },
          "execution_count": 29,
          "metadata": {},
          "output_type": "execute_result"
        }
      ],
      "source": [
        "df.AREA.unique()"
      ]
    },
    {
      "cell_type": "code",
      "execution_count": 30,
      "metadata": {
        "colab": {
          "base_uri": "https://localhost:8080/"
        },
        "id": "nQxnyia84efE",
        "outputId": "bf1e6a38-c082-4201-bf28-019a9e843c68"
      },
      "outputs": [
        {
          "data": {
            "text/plain": [
              "RURAL_URBAN\n",
              "Intermediário Adjacente     724915.58\n",
              "Intermediário Remoto       1075363.91\n",
              "Rural Adjacente            2349958.04\n",
              "Rural Remoto               1843091.37\n",
              "Urbano                     2430410.56\n",
              "Name: AREA, dtype: float64"
            ]
          },
          "execution_count": 30,
          "metadata": {},
          "output_type": "execute_result"
        }
      ],
      "source": [
        "área_por_categoria = df.groupby('RURAL_URBAN')['AREA'].sum()\n",
        "área_por_categoria"
      ]
    },
    {
      "cell_type": "code",
      "execution_count": 31,
      "metadata": {
        "colab": {
          "base_uri": "https://localhost:8080/"
        },
        "id": "XViXT7FJ3SK1",
        "outputId": "8362c349-16ba-46e4-a3e6-9ea8ee4b292d"
      },
      "outputs": [
        {
          "data": {
            "text/plain": [
              "RURAL_URBAN\n",
              "Intermediário Adjacente    0.086056\n",
              "Intermediário Remoto       0.127659\n",
              "Rural Adjacente            0.278969\n",
              "Rural Remoto               0.218797\n",
              "Urbano                     0.288519\n",
              "Name: AREA, dtype: float64"
            ]
          },
          "execution_count": 31,
          "metadata": {},
          "output_type": "execute_result"
        }
      ],
      "source": [
        "proporção = área_por_categoria / área_por_categoria.sum()\n",
        "proporção"
      ]
    },
    {
      "cell_type": "code",
      "execution_count": 32,
      "metadata": {
        "colab": {
          "base_uri": "https://localhost:8080/",
          "height": 400
        },
        "id": "eGU2Y4345wQF",
        "outputId": "a85e7941-8b1b-46f2-f065-da3694cadc5b"
      },
      "outputs": [
        {
          "data": {
            "image/png": "[encoded data removed]",
            "text/plain": [
              "<Figure size 640x440 with 1 Axes>"
            ]
          },
          "metadata": {},
          "output_type": "display_data"
        }
      ],
      "source": [
        "plt.figure()\n",
        "plt.pie(proporção.values, labels=área_por_categoria.index,\n",
        "        autopct='%1.2f%%', startangle=140)\n",
        "plt.axis('equal')\n",
        "plt.title('Proporção da Área por Categoria')\n",
        "plt.show()"
      ]
    },
    {
      "cell_type": "code",
      "execution_count": 33,
      "metadata": {
        "colab": {
          "base_uri": "https://localhost:8080/",
          "height": 529
        },
        "id": "0b1TaLJo5wSI",
        "outputId": "94ed715e-75f8-4e69-9535-f8b1d9ecfb1d"
      },
      "outputs": [
        {
          "data": {
            "image/png": "[encoded data removed]",
            "text/plain": [
              "<Figure size 640x440 with 1 Axes>"
            ]
          },
          "metadata": {},
          "output_type": "display_data"
        }
      ],
      "source": [
        "plt.figure()\n",
        "plt.bar(área_por_categoria.index, proporção.values)\n",
        "plt.xlabel('Categoria')\n",
        "plt.ylabel('Proporção da Área')\n",
        "plt.title('Proporção da Área por Categoria')\n",
        "plt.xticks(rotation=45)\n",
        "plt.show()"
      ]
    },
    {
      "cell_type": "markdown",
      "metadata": {
        "id": "WPBxQG3d26-T"
      },
      "source": [
        "# 2. Escolhendo o plot apropriado para visualizar a correlação entre as colunas POPULATION_2010, POPULATION-2018 e GDP\n",
        "---"
      ]
    },
    {
      "cell_type": "code",
      "execution_count": 34,
      "metadata": {
        "colab": {
          "base_uri": "https://localhost:8080/"
        },
        "id": "E_39wQqX3Sp0",
        "outputId": "b482df0b-e181-4ede-9248-86e174a1e2e1"
      },
      "outputs": [
        {
          "data": {
            "text/plain": [
              "array([ 6876.,  6704., 15757., ..., 45536.,  2075., 50173.])"
            ]
          },
          "execution_count": 34,
          "metadata": {},
          "output_type": "execute_result"
        }
      ],
      "source": [
        "df.POPULATION_2010.unique()"
      ]
    },
    {
      "cell_type": "code",
      "execution_count": 35,
      "metadata": {
        "colab": {
          "base_uri": "https://localhost:8080/"
        },
        "id": "KIiCTtXo9SV8",
        "outputId": "fc8a5243-ef44-4aeb-efb6-a9bb656d78a6"
      },
      "outputs": [
        {
          "data": {
            "text/plain": [
              "array([ 8583.,  6972., 19614., ...,  2225.,  2684., 51471.])"
            ]
          },
          "execution_count": 35,
          "metadata": {},
          "output_type": "execute_result"
        }
      ],
      "source": [
        "df.POPULATION_2018.unique()"
      ]
    },
    {
      "cell_type": "code",
      "execution_count": 36,
      "metadata": {
        "colab": {
          "base_uri": "https://localhost:8080/"
        },
        "id": "mx-zj2fx9SYO",
        "outputId": "a87755af-a41b-4fa1-838c-46160e1f31d6"
      },
      "outputs": [
        {
          "data": {
            "text/plain": [
              "array([1.6641000e+02, 1.8009000e+02, 2.8798449e+05, ..., 7.5934890e+04,\n",
              "       3.8050930e+05, 6.6998290e+04])"
            ]
          },
          "execution_count": 36,
          "metadata": {},
          "output_type": "execute_result"
        }
      ],
      "source": [
        "df.GDP.unique()"
      ]
    },
    {
      "cell_type": "code",
      "execution_count": 37,
      "metadata": {
        "colab": {
          "base_uri": "https://localhost:8080/",
          "height": 435
        },
        "id": "MjVtScdOK4bz",
        "outputId": "e79e4f0b-f559-483b-89fd-3bb3ebe76fd0"
      },
      "outputs": [
        {
          "data": {
            "image/png": "[encoded data removed]",
            "text/plain": [
              "<Figure size 640x440 with 1 Axes>"
            ]
          },
          "metadata": {},
          "output_type": "display_data"
        }
      ],
      "source": [
        "plt.figure()\n",
        "sns.scatterplot(data=df, x=df.POPULATION_2010,\n",
        "                y=df.GDP, label='População em 2010')\n",
        "sns.scatterplot(data=df, x=df.POPULATION_2018,\n",
        "                y=df.GDP, label='População em 2018')\n",
        "plt.xlabel('População')\n",
        "plt.ylabel('Produto Interno Bruto')\n",
        "plt.title('População versus GDP')\n",
        "plt.legend()\n",
        "plt.grid(True)\n",
        "plt.show()"
      ]
    },
    {
      "cell_type": "markdown",
      "metadata": {
        "id": "UU2Gr7EJ27FK"
      },
      "source": [
        "# 3. Escolhendo o plot apropriado para visualizar a comparação entre as colunas GDP de acordo com cada região (coluna STATE)\n",
        "---"
      ]
    },
    {
      "cell_type": "code",
      "execution_count": 38,
      "metadata": {
        "colab": {
          "base_uri": "https://localhost:8080/"
        },
        "id": "KMVyPD_q3TNF",
        "outputId": "6f013443-1ed8-4887-f0ec-27e373cf4ead"
      },
      "outputs": [
        {
          "data": {
            "text/plain": [
              "array([1.6641000e+02, 1.8009000e+02, 2.8798449e+05, ..., 7.5934890e+04,\n",
              "       3.8050930e+05, 6.6998290e+04])"
            ]
          },
          "execution_count": 38,
          "metadata": {},
          "output_type": "execute_result"
        }
      ],
      "source": [
        "df.GDP.unique()"
      ]
    },
    {
      "cell_type": "code",
      "execution_count": 39,
      "metadata": {
        "colab": {
          "base_uri": "https://localhost:8080/"
        },
        "id": "qUuFB_v3BCRY",
        "outputId": "36e4e095-4930-44bd-ce12-bbda0c26370d"
      },
      "outputs": [
        {
          "data": {
            "text/plain": [
              "array(['GO', 'MG', 'PA', 'CE', 'BA', 'PR', 'SC', 'PE', 'TO', 'MA', 'RN',\n",
              "       'PI', 'RS', 'MT', 'AC', 'SP', 'ES', 'AL', 'PB', 'MS', 'RO', 'RR',\n",
              "       'AM', 'AP', 'SE', 'RJ', 'DF'], dtype=object)"
            ]
          },
          "execution_count": 39,
          "metadata": {},
          "output_type": "execute_result"
        }
      ],
      "source": [
        "df.STATE.unique()"
      ]
    },
    {
      "cell_type": "code",
      "execution_count": 40,
      "metadata": {
        "colab": {
          "base_uri": "https://localhost:8080/"
        },
        "id": "axmCIZECBCTp",
        "outputId": "c514abd7-68b4-48b7-a5bd-84e4407e1463"
      },
      "outputs": [
        {
          "data": {
            "text/plain": [
              "STATE\n",
              "AC    2.162279e+05\n",
              "AL    4.456152e+05\n",
              "AM    1.382052e+06\n",
              "AP    8.765902e+05\n",
              "BA    5.803116e+05\n",
              "CE    7.154851e+05\n",
              "DF    2.354971e+08\n",
              "ES    1.278811e+06\n",
              "GO    6.425981e+05\n",
              "MA    1.781032e+05\n",
              "MG    5.320024e+05\n",
              "MS    1.007733e+06\n",
              "MT    6.878672e+05\n",
              "PA    8.384405e+05\n",
              "PB    2.464789e+05\n",
              "PE    7.921692e+05\n",
              "PI    1.717668e+05\n",
              "PR    6.736574e+05\n",
              "RJ    6.682954e+06\n",
              "RN    3.375725e+05\n",
              "RO    4.068474e+05\n",
              "RR    1.284430e+05\n",
              "RS    5.785027e+05\n",
              "SC    6.966244e+05\n",
              "SE    4.579639e+05\n",
              "SP    2.737559e+06\n",
              "TO    1.527542e+05\n",
              "Name: GDP, dtype: float64"
            ]
          },
          "execution_count": 40,
          "metadata": {},
          "output_type": "execute_result"
        }
      ],
      "source": [
        "gdp_por_estado = df.groupby('STATE')['GDP'].mean()\n",
        "gdp_por_estado"
      ]
    },
    {
      "cell_type": "code",
      "execution_count": 41,
      "metadata": {
        "colab": {
          "base_uri": "https://localhost:8080/",
          "height": 445
        },
        "id": "hiH_7BhJCGig",
        "outputId": "47c3dc9a-ce0c-41fc-c775-d279b6817f7f"
      },
      "outputs": [
        {
          "data": {
            "image/png": "[encoded data removed]",
            "text/plain": [
              "<Figure size 640x440 with 1 Axes>"
            ]
          },
          "metadata": {},
          "output_type": "display_data"
        }
      ],
      "source": [
        "plt.figure()\n",
        "plt.bar(gdp_por_estado.index, gdp_por_estado.values)\n",
        "plt.xlabel('Estado')\n",
        "plt.ylabel('GDP')\n",
        "plt.title('Comparação do GDP por Estado')\n",
        "plt.xticks(rotation=45)\n",
        "plt.show()"
      ]
    },
    {
      "cell_type": "code",
      "execution_count": 42,
      "metadata": {
        "colab": {
          "base_uri": "https://localhost:8080/"
        },
        "id": "pWgcy18vBCVv",
        "outputId": "3a7d0817-55c6-4058-b04b-6c7ebef7ab88"
      },
      "outputs": [
        {
          "data": {
            "text/plain": [
              "STATE\n",
              "AC    2.162279e+05\n",
              "AL    4.456152e+05\n",
              "AM    1.382052e+06\n",
              "AP    8.765902e+05\n",
              "BA    5.803116e+05\n",
              "CE    7.154851e+05\n",
              "ES    1.278811e+06\n",
              "GO    6.425981e+05\n",
              "MA    1.781032e+05\n",
              "MG    5.320024e+05\n",
              "MS    1.007733e+06\n",
              "MT    6.878672e+05\n",
              "PA    8.384405e+05\n",
              "PB    2.464789e+05\n",
              "PE    7.921692e+05\n",
              "PI    1.717668e+05\n",
              "PR    6.736574e+05\n",
              "RJ    6.682954e+06\n",
              "RN    3.375725e+05\n",
              "RO    4.068474e+05\n",
              "RR    1.284430e+05\n",
              "RS    5.785027e+05\n",
              "SC    6.966244e+05\n",
              "SE    4.579639e+05\n",
              "SP    2.737559e+06\n",
              "TO    1.527542e+05\n",
              "Name: GDP, dtype: float64"
            ]
          },
          "execution_count": 42,
          "metadata": {},
          "output_type": "execute_result"
        }
      ],
      "source": [
        "gdp_por_estado = df[df.STATE != 'DF'].groupby('STATE')['GDP'].mean()\n",
        "gdp_por_estado"
      ]
    },
    {
      "cell_type": "code",
      "execution_count": 43,
      "metadata": {
        "colab": {
          "base_uri": "https://localhost:8080/",
          "height": 445
        },
        "id": "uKMmw190BCXp",
        "outputId": "f8ebb6f2-0148-4d88-b90c-c7525444fd5f"
      },
      "outputs": [
        {
          "data": {
            "image/png": "[encoded data removed]",
            "text/plain": [
              "<Figure size 640x440 with 1 Axes>"
            ]
          },
          "metadata": {},
          "output_type": "display_data"
        }
      ],
      "source": [
        "plt.figure()\n",
        "plt.bar(gdp_por_estado.index, gdp_por_estado.values)\n",
        "plt.xlabel('Estado')\n",
        "plt.ylabel('GDP')\n",
        "plt.title('Comparação do GDP por Estado (exceto DF)')\n",
        "plt.xticks(rotation=45)\n",
        "plt.show()"
      ]
    },
    {
      "cell_type": "markdown",
      "metadata": {
        "id": "0cyWJnvV27Jm"
      },
      "source": [
        "# 4. Escolhendo o plot apropriado para visualizar a distribuição dos municipios (coluna CITY) de acordo apenas com latitude (coluna LAT) e longitude (coluna LONG)\n",
        "---"
      ]
    },
    {
      "cell_type": "code",
      "execution_count": 44,
      "metadata": {
        "colab": {
          "base_uri": "https://localhost:8080/"
        },
        "id": "UKQJ-cl03T33",
        "outputId": "e399278f-8c10-4b17-d563-95abd216d196"
      },
      "outputs": [
        {
          "data": {
            "text/plain": [
              "array(['Abadia De Goiás', 'Abadia Dos Dourados', 'Abadiânia', ...,\n",
              "       'Zacarias', 'Zé Doca', 'Zortéa'], dtype=object)"
            ]
          },
          "execution_count": 44,
          "metadata": {},
          "output_type": "execute_result"
        }
      ],
      "source": [
        "df.CITY.unique()"
      ]
    },
    {
      "cell_type": "code",
      "execution_count": 45,
      "metadata": {
        "colab": {
          "base_uri": "https://localhost:8080/"
        },
        "id": "w0AqhoPRCzP7",
        "outputId": "2b8bc4d2-fcca-4e9d-eff4-4c482731b07c"
      },
      "outputs": [
        {
          "data": {
            "text/plain": [
              "array([-16.75881189, -18.48756496, -16.18267186, ..., -21.05011043,\n",
              "        -3.2754805 , -27.45025141])"
            ]
          },
          "execution_count": 45,
          "metadata": {},
          "output_type": "execute_result"
        }
      ],
      "source": [
        "df.LAT.unique()"
      ]
    },
    {
      "cell_type": "code",
      "execution_count": 46,
      "metadata": {
        "colab": {
          "base_uri": "https://localhost:8080/"
        },
        "id": "Sr1xypEJCzR-",
        "outputId": "f14cc212-5452-44f3-8203-ebb038cfe18d"
      },
      "outputs": [
        {
          "data": {
            "text/plain": [
              "array([-49.44054783, -47.39683244, -48.71881214, ..., -50.05573952,\n",
              "       -45.65769786, -51.54956631])"
            ]
          },
          "execution_count": 46,
          "metadata": {},
          "output_type": "execute_result"
        }
      ],
      "source": [
        "df.LONG.unique()"
      ]
    },
    {
      "cell_type": "code",
      "execution_count": 47,
      "metadata": {
        "colab": {
          "base_uri": "https://localhost:8080/",
          "height": 503
        },
        "id": "7ze5LankCzTx",
        "outputId": "ae42b8e3-16b2-4401-a2c8-37b052fae11d"
      },
      "outputs": [
        {
          "data": {
            "image/png": "[encoded data removed]",
            "text/plain": [
              "<Figure size 640x440 with 1 Axes>"
            ]
          },
          "metadata": {},
          "output_type": "display_data"
        }
      ],
      "source": [
        "plt.figure()\n",
        "sns.scatterplot(x=df.LONG, y=df.LAT, hue=df.STATE, data=df)\n",
        "plt.xlabel('Longitude')\n",
        "plt.ylabel('Latitude')\n",
        "plt.title('Distribuição dos Municípios por Latitude e Longitude')\n",
        "plt.legend(title='Estado', loc='upper left', bbox_to_anchor=(1, 1))\n",
        "plt.grid(True)\n",
        "plt.show()"
      ]
    },
    {
      "cell_type": "markdown",
      "metadata": {
        "id": "MWp3RdyW3P3s"
      },
      "source": [
        "# 5. Escolhendo o plot apropriado para visualizar as palavras (e sua quantidade de ocorrências) presentes na coluna STATE\n",
        "---"
      ]
    },
    {
      "cell_type": "code",
      "execution_count": 48,
      "metadata": {
        "colab": {
          "base_uri": "https://localhost:8080/"
        },
        "id": "09UcTZLH3Uq4",
        "outputId": "06c1c09b-b91c-4c29-e866-8fc3a5ad29bd"
      },
      "outputs": [
        {
          "data": {
            "text/plain": [
              "array(['GO', 'MG', 'PA', 'CE', 'BA', 'PR', 'SC', 'PE', 'TO', 'MA', 'RN',\n",
              "       'PI', 'RS', 'MT', 'AC', 'SP', 'ES', 'AL', 'PB', 'MS', 'RO', 'RR',\n",
              "       'AM', 'AP', 'SE', 'RJ', 'DF'], dtype=object)"
            ]
          },
          "execution_count": 48,
          "metadata": {},
          "output_type": "execute_result"
        }
      ],
      "source": [
        "df.STATE.unique()"
      ]
    },
    {
      "cell_type": "code",
      "execution_count": 49,
      "metadata": {
        "colab": {
          "base_uri": "https://localhost:8080/"
        },
        "id": "5ULxCtgHEau8",
        "outputId": "91149e7e-cdbb-4b3c-c219-ca6914da481e"
      },
      "outputs": [
        {
          "data": {
            "text/plain": [
              "MG    852\n",
              "SP    645\n",
              "RS    495\n",
              "BA    416\n",
              "PR    398\n",
              "SC    293\n",
              "GO    245\n",
              "PI    224\n",
              "PB    222\n",
              "MA    217\n",
              "PE    185\n",
              "CE    184\n",
              "RN    164\n",
              "PA    143\n",
              "MT    141\n",
              "TO    138\n",
              "AL    102\n",
              "RJ     92\n",
              "ES     78\n",
              "MS     78\n",
              "SE     75\n",
              "AM     61\n",
              "RO     52\n",
              "AC     22\n",
              "AP     16\n",
              "RR     15\n",
              "DF      1\n",
              "Name: STATE, dtype: int64"
            ]
          },
          "execution_count": 49,
          "metadata": {},
          "output_type": "execute_result"
        }
      ],
      "source": [
        "state_counts = df.STATE.value_counts()\n",
        "state_counts"
      ]
    },
    {
      "cell_type": "code",
      "execution_count": 50,
      "metadata": {
        "colab": {
          "base_uri": "https://localhost:8080/",
          "height": 435
        },
        "id": "qk5xmN20Fr7e",
        "outputId": "39ae0bb8-ec36-4711-b1ca-206afa057570"
      },
      "outputs": [
        {
          "data": {
            "image/png": "[encoded data removed]",
            "text/plain": [
              "<Figure size 640x440 with 2 Axes>"
            ]
          },
          "metadata": {},
          "output_type": "display_data"
        }
      ],
      "source": [
        "wordcloud = WordCloud(\n",
        "    background_color='white').generate_from_frequencies(state_counts)\n",
        "\n",
        "plt.figure()\n",
        "plt.subplot(1, 2, 1)\n",
        "plt.imshow(wordcloud, interpolation='bilinear')\n",
        "plt.title('Nuvem de Palavras dos Estados do Brasil')\n",
        "plt.axis('off')\n",
        "\n",
        "plt.subplot(1, 2, 2)\n",
        "state_counts.plot(kind='barh')\n",
        "plt.title('Número de Vezes em que Cada Estado Aparece')\n",
        "plt.xlabel('Número')\n",
        "plt.ylabel('Estado')\n",
        "\n",
        "plt.subplots_adjust(wspace=0.5)\n",
        "plt.show()"
      ]
    }
  ],
  "metadata": {
    "colab": {
      "authorship_tag": "ABX9TyNUzXm/YvY6kWnip0khTrOq",
      "provenance": []
    },
    "kernelspec": {
      "display_name": "Python 3",
      "name": "python3"
    },
    "language_info": {
      "name": "python"
    }
  },
  "nbformat": 4,
  "nbformat_minor": 0
}
